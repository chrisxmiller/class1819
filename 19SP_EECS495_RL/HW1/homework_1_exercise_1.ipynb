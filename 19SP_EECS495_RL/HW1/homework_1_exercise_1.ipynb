{
 "cells": [
  {
   "cell_type": "code",
   "execution_count": 2,
   "metadata": {},
   "outputs": [],
   "source": [
    "# import a custom plotting library\n",
    "#import some_plotters as plotter\n",
    "import matplotlib.pyplot as plt\n",
    "\n",
    "# import autograd functionality\n",
    "import autograd.numpy as np\n",
    "\n",
    "# import path to datasets\n",
    "datapath = 'datasets/'\n",
    "\n",
    "# this is needed to compensate for %matplotl+ib notebook's tendancy to blow up images when plotted inline\n",
    "from matplotlib import rcParams\n",
    "rcParams['figure.autolayout'] = True\n",
    "%matplotlib notebook\n",
    "\n",
    "# autoreload functi\"on - so if anything behind the scenes is changeed those changes\n",
    "# are reflected in the notebook without having to restart the kernel\n",
    "%load_ext autoreload\n",
    "%autoreload 2\n",
    "\n",
    "#Other Imports\n",
    "from autograd import value_and_grad \n",
    "from autograd.misc.flatten import flatten_func"
   ]
  },
  {
   "cell_type": "markdown",
   "metadata": {},
   "source": [
    "#### <span style=\"color:#a50e3e;\">Exercise 1: </span>  Perform Imitation Learning on a small chunk of cruise control data "
   ]
  },
  {
   "cell_type": "markdown",
   "metadata": {},
   "source": [
    "In this exercise you will perform Imitation Learning using a small snippet of cruise control data shown below.  Here our `output sequence` are states $\\left\\{s_t\\right\\}_{t=1}^T$, and the `input sequence` corresponding actions $\\left\\{a_t\\right\\}_{t=1}^{T-1}$ (we can ignore any finanl action $a_T$ since there is no next state $s_{t+1}$ to regress it on in learning our system model).  Notice at each update step the action is clipped to lie in the range $[-50,100]$ - which is the angle of the pedal against the floor of the car.  Here a negative angle indicates that 'regenerative braking' was applied."
   ]
  },
  {
   "cell_type": "code",
   "execution_count": 3,
   "metadata": {
    "scrolled": false
   },
   "outputs": [],
   "source": [
    "# load in cruise control data\n",
    "data = np.loadtxt(datapath + 'simulated_car_data.csv',delimiter = ',')\n",
    "\n",
    "# extract actions and states \n",
    "actions = data[0,1:][np.newaxis,:] # our T-1 actions\n",
    "states = data[1,:][np.newaxis,:]   # our T states\n",
    "\n",
    "# plot the test pair\n",
    "#plotter.plot_pair(actions,states)"
   ]
  },
  {
   "cell_type": "markdown",
   "metadata": {},
   "source": [
    "Some more particulars: here you need to learn the weights of a basic order $1$ linear system model - which takes the form\n",
    "\n",
    "\\begin{equation}\n",
    "s_{t+1} = f_{\\text{imitator}}\\left(s_t,a_t\\right) = w_0 + w_1s_t + w_2a_t\n",
    "\\end{equation}\n",
    "\n",
    "by properly minimizing the associated Least Squares cost function\n",
    "\n",
    "\\begin{equation}\n",
    "\\frac{1}{T-1}\\sum_{t=1}^{T-1}\\left(f_{\\text{imitator}}\\left(s_t,a_t\\right) - s_{t+1}\\right)^2\n",
    "\\end{equation}\n",
    "\n",
    "over the weights $\\left\\{ w_0,\\, w_1,\\, w_2\\right\\}$ where $T$ is the length of our training action sequence.  \n",
    "\n",
    "\n",
    "- Build a `Python` version of the system model and Least Squares cost function and minimize it using a first order method.  Use the entire dataset provided for training (i.e., do not worry about validation error)\n",
    "\n",
    "\n",
    "- After properly minimizing the Least Squares cost above make a plot like the one shown below - which shows the original state data in black, and the system model approximation in blue.  Your trained model should be able to match the data quite well."
   ]
  },
  {
   "cell_type": "markdown",
   "metadata": {},
   "source": [
    "<figure>\n",
    "<p>\n",
    "<img src= 'images/cruise_control_approximate.png' width=\"150%\" height=\"150%\" alt=\"\"/>\n",
    "</p>\n",
    "</figure>"
   ]
  },
  {
   "cell_type": "code",
   "execution_count": 4,
   "metadata": {},
   "outputs": [],
   "source": [
    "#pull the gradient descent function from the helper functions notebook\n",
    "def gradient_descent(g,w_init,alpha,max_its,verbose): \n",
    "    # flatten the input function\n",
    "    g_flat, unflatten, w = flatten_func(g, w_init)\n",
    "    \n",
    "    # compute gradient of flattened input function\n",
    "    # when evaluated this returns both the evaluation of the gradient and the original function\n",
    "    grad = value_and_grad(g_flat)\n",
    "    cost_eval,grad_eval = grad(w)\n",
    "    grad_eval.shape = np.shape(w)\n",
    "\n",
    "    # record history\n",
    "    w_hist = [unflatten(w)]\n",
    "    train_hist = [cost_eval]\n",
    "        \n",
    "    # gradient descent loop\n",
    "    for k in range(max_its): \n",
    "        # take descent step with momentum\n",
    "        w = w - alpha*grad_eval\n",
    "        \n",
    "        # plug in updated w into func and gradient\n",
    "        cost_eval,grad_eval = grad(w)\n",
    "        grad_eval.shape = np.shape(w)\n",
    "                \n",
    "        # store updates\n",
    "        w_hist.append(unflatten(w))\n",
    "        train_hist.append(cost_eval)\n",
    "\n",
    "        # print update\n",
    "        if verbose == True:\n",
    "            print ('step ' + str(k+1) + ' complete, train cost = ' + str(np.round(train_hist[-1],4)[0]))\n",
    "\n",
    "    # print update and return\n",
    "    if verbose == True:\n",
    "        print ('finished all ' + str(max_its) + ' steps')\n",
    "    return w_hist,train_hist"
   ]
  },
  {
   "cell_type": "code",
   "execution_count": 5,
   "metadata": {},
   "outputs": [],
   "source": [
    "# standard normalization function \n",
    "def standard_normalizer(x):\n",
    "    # compute the mean and standard deviation of the input\n",
    "    x_means = np.mean(x,axis = 1)[:,np.newaxis]\n",
    "    x_stds = np.std(x,axis = 1)[:,np.newaxis]   \n",
    "\n",
    "    # check to make sure thta x_stds > small threshold, for those not\n",
    "    # divide by 1 instead of original standard deviation\n",
    "    ind = np.argwhere(x_stds < 10**(-2))\n",
    "    if len(ind) > 0:\n",
    "        ind = [v[0] for v in ind]\n",
    "        adjust = np.zeros((x_stds.shape))\n",
    "        adjust[ind] = 1.0\n",
    "        x_stds += adjust\n",
    "\n",
    "    # create standard normalizer function\n",
    "    normalizer = lambda data: (data - x_means)/x_stds\n",
    "\n",
    "    # create inverse standard normalizer\n",
    "    inverse_normalizer = lambda data: data*x_stds + x_means\n",
    "\n",
    "    # return normalizer \n",
    "    return normalizer,inverse_normalizer"
   ]
  },
  {
   "cell_type": "code",
   "execution_count": 6,
   "metadata": {},
   "outputs": [],
   "source": [
    "#Define the model as set above\n",
    "def model(s,a,w):\n",
    "    b = w[0] + s*w[1] + a*w[2]\n",
    "    return b\n",
    "\n",
    "#Define the least squares cost function\n",
    "def least_squares(s,a,w):\n",
    "    cost = 0\n",
    "    T = len(s)\n",
    "    s_t   = s[0:T-1]\n",
    "    s_tp1 = s[1:T]\n",
    "    cost = np.sum((model(s_t,a,w) - s_tp1)**2)\n",
    "    return cost/(T-1)"
   ]
  },
  {
   "cell_type": "code",
   "execution_count": 7,
   "metadata": {},
   "outputs": [],
   "source": [
    "# Retrieve the normalize and inverse normalize functions for the states and actions\n",
    "norm_fun_s, invnorm_fun_s = standard_normalizer(states)\n",
    "norm_fun_a, invnorm_fun_a = standard_normalizer(actions)\n",
    "\n",
    "# Normalize the states, actions for fitting \n",
    "normedstates = norm_fun_s(states.T)\n",
    "normedactions = norm_fun_a(actions.T)"
   ]
  },
  {
   "cell_type": "code",
   "execution_count": 16,
   "metadata": {},
   "outputs": [],
   "source": [
    "#Gradient Descent Params \n",
    "w_init = np.random.randn(3,1)\n",
    "alpha = 10**(-1)\n",
    "max_its = 100\n",
    "verbose = False\n",
    "\n",
    "#Make an instance of Least Squares with the data locked in\n",
    "g = lambda w, a = normedactions, s = normedstates: least_squares(s,a,w)\n",
    "\n",
    "#Run gradient descent \n",
    "whx,thx = gradient_descent(g, w_init, alpha, max_its, verbose)"
   ]
  },
  {
   "cell_type": "code",
   "execution_count": 17,
   "metadata": {},
   "outputs": [
    {
     "name": "stdout",
     "output_type": "stream",
     "text": [
      "--Best Cost--\n",
      "[ 0.00034905]\n",
      "--Best Weights--\n",
      "[[ 0.00330096]\n",
      " [ 0.91667633]\n",
      " [ 0.0917037 ]]\n"
     ]
    }
   ],
   "source": [
    "#Find the best of the weights\n",
    "ind = np.argmin(thx)\n",
    "w_best = whx[ind]\n",
    "gbest = thx[ind]\n",
    "#Print the best cost and the best weights\n",
    "print(\"--Best Cost--\")\n",
    "print(gbest)\n",
    "print(\"--Best Weights--\")\n",
    "print(w_best)"
   ]
  },
  {
   "cell_type": "code",
   "execution_count": 18,
   "metadata": {},
   "outputs": [
    {
     "name": "stdout",
     "output_type": "stream",
     "text": [
      "-- Mean of Squared Error --\n",
      "4.67393488333e-06\n"
     ]
    },
    {
     "name": "stderr",
     "output_type": "stream",
     "text": [
      "/home/chris/anaconda3/lib/python3.6/site-packages/matplotlib/figure.py:2267: UserWarning: This figure includes Axes that are not compatible with tight_layout, so results might be incorrect.\n",
      "  warnings.warn(\"This figure includes Axes that are not compatible \"\n"
     ]
    },
    {
     "data": {
      "image/png": "[encoded data removed]",
      "text/plain": [
       "<Figure size 576x216 with 1 Axes>"
      ]
     },
     "metadata": {},
     "output_type": "display_data"
    }
   ],
   "source": [
    "#Test the model with normalized data  - this is for testing \n",
    "outputs = model(normedstates[0:599],normedactions, w_best)\n",
    "a = normedstates[0:599]\n",
    "b = normedactions\n",
    "err = outputs - a\n",
    "plt.figure(num=1,figsize = (8,3))\n",
    "plt.title(\"Normalized Data Comparisons\")\n",
    "plt.xlabel(\"Time Step\")\n",
    "plt.ylabel(\"Normalized State Range\")\n",
    "ax1 = plt.plot(a)\n",
    "plt.plot(outputs)\n",
    "print(\"-- Mean of Squared Error --\")\n",
    "print(np.mean(err**2)/len(err))"
   ]
  },
  {
   "cell_type": "code",
   "execution_count": 19,
   "metadata": {},
   "outputs": [
    {
     "name": "stderr",
     "output_type": "stream",
     "text": [
      "/home/chris/anaconda3/lib/python3.6/site-packages/matplotlib/figure.py:2267: UserWarning: This figure includes Axes that are not compatible with tight_layout, so results might be incorrect.\n",
      "  warnings.warn(\"This figure includes Axes that are not compatible \"\n"
     ]
    },
    {
     "data": {
      "image/png": "[encoded data removed]",
      "text/plain": [
       "<Figure size 576x216 with 1 Axes>"
      ]
     },
     "metadata": {},
     "output_type": "display_data"
    },
    {
     "name": "stdout",
     "output_type": "stream",
     "text": [
      "-- Mean of Squared Error --\n",
      "0.0178152594631\n"
     ]
    },
    {
     "data": {
      "image/png": "[encoded data removed]",
      "text/plain": [
       "<Figure size 576x216 with 1 Axes>"
      ]
     },
     "metadata": {},
     "output_type": "display_data"
    }
   ],
   "source": [
    "# ---- SOLUTION ---- \n",
    "\n",
    "#Setup the normed states_estimate\n",
    "state_estimate_normed = [0]*len(normedstates)\n",
    "#Set the initial state - like the actions, it's assumed we know s_0\n",
    "state_estimate_normed[0] = normedstates[0]\n",
    "\n",
    "#Run the model with the normalized data to grab the states\n",
    "#based on the model\n",
    "for i in range(len(normedactions)):\n",
    "    state_estimate_normed[i+1] = model(state_estimate_normed[i],normedactions[i], w_best)\n",
    "\n",
    "#state_estimate_normed = model(normedstates[0:599],normedactions, w_best)\n",
    "\n",
    "#Unnormalize the states\n",
    "state_estimate_unnormed = invnorm_fun_s(state_estimate_normed)\n",
    "\n",
    "#Plot Labels and Setup\n",
    "plt.figure(num=2,figsize = (8,3))\n",
    "plt.title(\"State vs State Estimate Plot\")\n",
    "plt.xlabel(\"Time Step\")\n",
    "plt.ylabel(\"State Range\")\n",
    "#Plot the unnormalized state estimates\n",
    "plt.plot(state_estimate_unnormed)\n",
    "\n",
    "#Plot the input states\n",
    "plt.plot(states.T)\n",
    "\n",
    "#Legend and Display\n",
    "plt.legend([\"State - Estimate\", \"State - Truth\"])\n",
    "plt.show()\n",
    "\n",
    "#Compute the error function\n",
    "err_states_unnormed = states.T - state_estimate_unnormed\n",
    "\n",
    "#Compute the mean of the squared error\n",
    "print(\"-- Mean of Squared Error --\")\n",
    "print(np.mean(err_states_unnormed**2)/len(err))\n",
    "\n",
    "#For fun, plot the error vector\n",
    "\n",
    "#Plot Labels and Setup\n",
    "plt.figure(num=3,figsize = (8,3))\n",
    "plt.title(\"State Error vs Time Step\")\n",
    "plt.xlabel(\"Time Step\")\n",
    "plt.ylabel(\"State Range\")\n",
    "\n",
    "#Plot the input states\n",
    "plt.plot(err_states_unnormed)\n",
    "\n",
    "#Display \n",
    "plt.show()"
   ]
  },
  {
   "cell_type": "markdown",
   "metadata": {},
   "source": [
    "Since the estimate and truth are able to track one another rather well, it can be said the regression is working and this is a rather accurate model. "
   ]
  }
 ],
 "metadata": {
  "kernelspec": {
   "display_name": "Python 3",
   "language": "python",
   "name": "python3"
  },
  "language_info": {
   "codemirror_mode": {
    "name": "ipython",
    "version": 3
   },
   "file_extension": ".py",
   "mimetype": "text/x-python",
   "name": "python",
   "nbconvert_exporter": "python",
   "pygments_lexer": "ipython3",
   "version": "3.6.5"
  }
 },
 "nbformat": 4,
 "nbformat_minor": 2
}
