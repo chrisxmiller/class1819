{
 "cells": [
  {
   "cell_type": "markdown",
   "metadata": {},
   "source": [
    "#### <span style=\"color:#a50e3e;\">Exercise 3: </span>  Shortest path via Value Iteration"
   ]
  },
  {
   "cell_type": "markdown",
   "metadata": {},
   "source": [
    "<figure>\n",
    "  <img src= 'images/shortest_path_both.png' width=\"100%\" height=\"100%\" alt=\"\"/>\n",
    "<figcaption>  <strong>Figure 1:</strong>   <em>  (left panel) A directed acyclic graph.  (right panel) The same graph with each step transition cost labeled on its corresponding edge. </em>  </figcaption> \n",
    "</figure>"
   ]
  },
  {
   "cell_type": "markdown",
   "metadata": {},
   "source": [
    "Below is a [Python dictionary](https://www.tutorialspoint.com/python/python_dictionary.htm) representation of the graph above - along with transition costs. "
   ]
  },
  {
   "cell_type": "code",
   "execution_count": 1,
   "metadata": {},
   "outputs": [],
   "source": [
    "graph = { \n",
    "          'A': {'B': 3, 'C':  5, 'D': 7},\n",
    "          'B' : {'C': 1, 'E': 2},\n",
    "          'C' : {'E': 4,'F': 4},\n",
    "          'D' : {'G': 3},\n",
    "          'E' : {'D': 2,'F': 2, 'G': 7},\n",
    "          'F' : {'G': 5},\n",
    "          'G' : []\n",
    "        }"
   ]
  },
  {
   "cell_type": "markdown",
   "metadata": {},
   "source": [
    " The first line in ``graph``\n",
    "\n",
    "`'A': {'B': 3, 'C':  5}`\n",
    "\n",
    "denotes the portion of the graph including starting at node **A** along with all other nodes it connects too via a directed edge stemming from **A** (as shown in the illustration above).  Here those two nodes are **B** and **C**, and each has a corresponding transition cost (moving from **A**) of 3 and 5 respectively.  Notice that the last line \n",
    "\n",
    "`'G' : []` \n",
    "\n",
    "states that node **G** connects to node via a directed edge where this edge stems from **G**."
   ]
  },
  {
   "cell_type": "markdown",
   "metadata": {},
   "source": [
    "In this exercise you will use the Value Iteration algorithm - the first / fundamental Approximate Dynamic Programming algorithm described in the [course notes](https://www.dropbox.com/s/khu8pby8s8y0tn3/dynamic_programming_class_notes.pdf?dl=0) - to determine the shortest path starting from node **A** and ending at node **G** in the graph shown below (the same graph used in the previous exercise). \n",
    "\n",
    "In completing this exercise you should use the *dictionary* representation of the graph / cost structure above (or, in other words, your $f_{\\text{system}}$ and cost structure) provided above, as well as another dictionary for your $Q$ function.  Below is a $Q$ function initialized to all zeros."
   ]
  },
  {
   "cell_type": "code",
   "execution_count": 29,
   "metadata": {},
   "outputs": [],
   "source": [
    "Q = { \n",
    "      'A' : {'B': 0, 'C': 0, 'D': 0},\n",
    "      'B' : {'C': 0, 'E': 0},\n",
    "      'C' : {'E': 0,'F': 0},\n",
    "      'D' : {'G': 0},\n",
    "      'E' : {'D': 0,'F': 0, 'G': 0},\n",
    "      'F' : {'G': 0},\n",
    "      'G' : 0\n",
    "    }"
   ]
  },
  {
   "cell_type": "markdown",
   "metadata": {},
   "source": [
    "Remember: you are not performing Q-Learning here, but nonetheless the function $Q$ must be maintained and updated in order to perform  Value Iteration *and* recover the optimal control law / shortest path after completion.  The general $t^{th}$ Value Iteration step (recursing *down* the set of fundamental DP equations)\n",
    "\n",
    "\\begin{equation}\n",
    "V\\left(s_{t+1}\\right) = \\underset{a_t}{\\text{minimize}}\\left[g\\left(s_t,a_t\\right) + V\\left(s_{t+1}\\right)\\right]\n",
    "\\end{equation}\n",
    "\n",
    "is written in terms of $Q$ as\n",
    "\n",
    "\\begin{equation}\n",
    "V\\left(s_{t+1}\\right) = \\underset{a_t}{\\text{minimize}}\\left[g\\left(s_t,a_t\\right) + \\underset{a_{t+1}}{\\text{minimize}}\\,Q\\left(s_{t+1},a_{t+1}\\right)\\right]\n",
    "\\end{equation}"
   ]
  },
  {
   "cell_type": "markdown",
   "metadata": {},
   "source": [
    "Note a few technical points about your final implementation:\n",
    "\n",
    "- During each step of an episode you should transition *randomly* from node-to-node.  Because you are dealing with such a small graph here this will allow you to explore the entire graph after just a few episodes.\n",
    "\n",
    "\n",
    "- Because this is such a small graph you should only need to run a maximum of $10$ episodes of Value Iteration in order for the values of $Q$ to converge to the optimal values."
   ]
  },
  {
   "cell_type": "code",
   "execution_count": 92,
   "metadata": {},
   "outputs": [],
   "source": [
    "import numpy as np\n",
    "\n",
    "def value_iteration(state_now, graph, Q):\n",
    "    if state_now =='G':\n",
    "        Q[state_now] = 0\n",
    "        return 0\n",
    "    else:\n",
    "        #Grab the next branch of possible nodes\n",
    "        nxt_nodes = graph[state_now]\n",
    "        #Grab the Q for the current state update\n",
    "        Q_now = Q[state_now]\n",
    "        #Loop through the possible actions and their value iteratons and store in Q\n",
    "        for nxt in nxt_nodes:\n",
    "            #action cost for going from state_now to state_next\n",
    "            gsa = nxt_nodes[nxt]\n",
    "            #Recurse through the graph by minimizing the action to go to the next state and \n",
    "            Q_now[nxt] = gsa + value_iteration(nxt,graph,Q)   \n",
    "        #After computing, store in the Q vector\n",
    "        Q[state_now] = Q_now\n",
    "        #Find the V function\n",
    "        Q_min = min(Q[state_now].values())\n",
    "        return Q_min"
   ]
  },
  {
   "cell_type": "code",
   "execution_count": 95,
   "metadata": {},
   "outputs": [
    {
     "name": "stdout",
     "output_type": "stream",
     "text": [
      "The optimal path is: A -> B -> C -> E -> D -> G with a cost of 10\n"
     ]
    }
   ],
   "source": [
    "#Initialize the starting position\n",
    "state_init = 'A'\n",
    "#Recurse through the tree and grab the min cost on the way\n",
    "min_cost = value_iteration(state_init, graph, Q)\n",
    "#Initialize an array to record the possible states\n",
    "state_next = []\n",
    "#Init the array\n",
    "state_next.append(state_init)\n",
    "#Initialize a counter\n",
    "i = 0\n",
    "#While the next state isn't the end ('G')\n",
    "while (state_next[i] != 'G'):\n",
    "    #Find the path of least resistance in Q\n",
    "    min_state = min(Q[state_next[i]])\n",
    "    #Record the state\n",
    "    state_next.append(min_state)\n",
    "    #Transition to the next state\n",
    "    i = i + 1\n",
    "#Print the array of state transitions and the cost of path traversal\n",
    "string_out = 'The optimal path is: '\n",
    "first = True\n",
    "for states in state_next:\n",
    "    if not first:\n",
    "        string_out = string_out + ' -> '\n",
    "    first = False\n",
    "    string_out = string_out + str(states)\n",
    "string_out = string_out + ' with a cost of '\n",
    "string_out = string_out + str(min_cost)\n",
    "print(string_out)\n",
    "#Print the cost to navitate this path"
   ]
  },
  {
   "cell_type": "markdown",
   "metadata": {},
   "source": [
    "Came to office hours - was told this is sufficient. "
   ]
  },
  {
   "cell_type": "code",
   "execution_count": null,
   "metadata": {},
   "outputs": [],
   "source": []
  }
 ],
 "metadata": {
  "kernelspec": {
   "display_name": "Python 3",
   "language": "python",
   "name": "python3"
  },
  "language_info": {
   "codemirror_mode": {
    "name": "ipython",
    "version": 3
   },
   "file_extension": ".py",
   "mimetype": "text/x-python",
   "name": "python",
   "nbconvert_exporter": "python",
   "pygments_lexer": "ipython3",
   "version": "3.6.5"
  }
 },
 "nbformat": 4,
 "nbformat_minor": 2
}
