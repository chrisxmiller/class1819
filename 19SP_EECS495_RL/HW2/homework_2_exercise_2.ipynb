{
 "cells": [
  {
   "cell_type": "markdown",
   "metadata": {},
   "source": [
    "#### <span style=\"color:#a50e3e;\">Exercise 2: </span>  Shortest path using Dynamic Programming"
   ]
  },
  {
   "cell_type": "markdown",
   "metadata": {},
   "source": [
    "Use the fundamental backward / forward Dynamic Programming (DP) recursion discussed in the [course notes](https://www.dropbox.com/s/khu8pby8s8y0tn3/dynamic_programming_class_notes.pdf?dl=0) to determine the shortest path starting from node **A** and ending at node **G** in the graph shown below.  In the left panel the original graph is shown, while in the right panel the graph is shown with its transition costs along each edge.  "
   ]
  },
  {
   "cell_type": "markdown",
   "metadata": {},
   "source": [
    "<figure>\n",
    "  <img src= 'images/shortest_path_both.png' width=\"100%\" height=\"100%\" alt=\"\"/>\n",
    "<figcaption>  <strong>Figure 1:</strong>   <em>  (left panel) An acyclic directed graph.  (right panel) The same graph with each step transition cost labeled on its corresponding edge. </em>  </figcaption> \n",
    "</figure>"
   ]
  },
  {
   "cell_type": "markdown",
   "metadata": {},
   "source": [
    "For the sake of complete clarity note that the stepwise costs are as follows - where $g\\left(N_1, a^{N_1,N_2}\\right)$ denotes the transition cost of starting at node $N_1$ and transitioning to node $N_2$\n",
    "\n",
    "\\begin{equation}\n",
    "g\\left(A,a^{A,B}\\right) = 3 \\\\\n",
    "g\\left(A,a^{A,C}\\right) = 5 \\\\\n",
    "g\\left(A,a^{A,D}\\right) = 7 \\\\\n",
    "------ \\\\\n",
    "g\\left(B,a^{B,E}\\right) = 2 \\\\\n",
    "g\\left(B,a^{B,C}\\right) = 1 \\\\\n",
    "------ \\\\\n",
    "g\\left(C,a^{C,E}\\right) = 4 \\\\\n",
    "g\\left(C,a^{C,F}\\right) = 4 \\\\\n",
    "------ \\\\\n",
    "g\\left(D,a^{D,G}\\right) = 3 \\\\\n",
    "------ \\\\\n",
    "g\\left(E,a^{E,F}\\right) = 2 \\\\\n",
    "g\\left(E,a^{E,G}\\right) = 7 \\\\\n",
    "------ \\\\\n",
    "g\\left(F,a^{F,G}\\right) = 5 \\\\\n",
    "\\end{equation}\n",
    "\n",
    "A few technical points on how to complete this problem and what to turn in:\n",
    "\n",
    "- *Node update order*: Examining the graph above you can see that there are several ways - in terms of the order of node updates - we could perform the backwards DP recursion for this graph.  However if you think about this recursion we really need to perform it in the particular order given below (why is this?).  Make sure you follow this order of updates when performing your backwards sweep to update $V$.\n",
    "\n",
    "\\begin{equation}\n",
    "D \\longrightarrow F \\longrightarrow E \\longrightarrow C \\longrightarrow B \\longrightarrow A\n",
    "\\end{equation}\n",
    "\n",
    "\n",
    "- Here you are looking to determine the optimal control law which *minimizes* the cost of transitioning from node **A** to node **G**.  Make sure to report the optimal control law / shortest path you find, along with its optimal cost.  Make sure you report both.\n",
    "\n",
    "\n",
    "- *Make sure you show your work here* - if you perform your calculations using pencil and paper make sure to include an image of them - loaded into a cell below - in your final submission. "
   ]
  },
  {
   "cell_type": "markdown",
   "metadata": {},
   "source": [
    "#### <span style=\"color:#a50e3e;\">Exercise 2: </span>  Shortest path using Dynamic Programming: Solution"
   ]
  },
  {
   "cell_type": "markdown",
   "metadata": {},
   "source": [
    "The following represents the derivation of the optimal control law that follows the shortest path. The order of updates: \\begin{equation}\n",
    "D \\longrightarrow F \\longrightarrow E \\longrightarrow C \\longrightarrow B \\longrightarrow A\n",
    "\\end{equation}\n",
    "\n",
    "Describes the paths from $G$ to $A$ in wich the optimal control laws exist. The following steps describe the path presented only in the order of updates presented above. There exists other paths that will yield the same, but non-optimal, results. \n",
    "\n",
    "This is the trivial step\n",
    "\\begin{equation}\n",
    "V(D) = g\\left(D,a^{D,G}\\right) = 3 \\\\\n",
    "V(F) = g\\left(F,a^{F,G}\\right) = 5 \\\\\n",
    "\\end{equation}\n",
    " \n",
    "Note: $V(E)$'s optimal path isn't to F. Per the above graph, $E$ may also transition to $D$. This appears to have been forgotten in the above table of cost functions/actions. \n",
    "\n",
    "\\begin{equation}\n",
    "V(E) = \\min_{n \\in D,F,G}( g(E,a^{E,D}) + V(D), g(E,a^{E,F}) + V(F), g(E,a^{E,G}) + V(G) ) \\\\\n",
    "V(E) = \\min_{n \\in D,F,G}(2 + 3, 2 + 5, 7 + 0)\\\\\n",
    "V(E) = \\min_{n \\in D,F,G}(5, 7, 7)\\\\\n",
    "V(E) = 5\\\\\n",
    "\\end{equation}\n",
    "\n",
    "\\begin{equation}\n",
    "V(C) = \\min_{n \\in F,E}(g\\left(C,a^{C,E}\\right) + V(E), g\\left(C,a^{C,F}\\right) + V(F)) \\\\\n",
    "V(C) = \\min_{n \\in F,E}(4 + 5, 4 + 5)\\\\\n",
    "V(C) = \\min_{n \\in F,E}(9,9)\\\\\n",
    "V(C) = 9\\\\\n",
    "\\end{equation}\n",
    "\n",
    "\n",
    "\\begin{equation}\n",
    "V(B) = \\min_{n \\in C,E}(g\\left(B,a^{B,C}\\right)+V(C), g\\left(B,a^{B,E}\\right) + V(E)) \\\\\n",
    "V(B) = \\min_{n \\in C,E}(1 + 9, 2 + 5)\\\\\n",
    "V(B) = \\min_{n \\in C,E}(10, 7)\\\\\n",
    "V(B) = 7\\\\\n",
    "\\end{equation}\n",
    "\n",
    "\\begin{equation}\n",
    "V(A) = \\min_{n \\in B,C,D}(g\\left(A,a^{A,B}\\right) + V(B), g\\left(A,a^{A,C}\\right) + V(C), g\\left(A,a^{A,D}\\right) + V(D)) \\\\\n",
    "V(A) = \\min_{n \\in B,C,D}(3+7, 5+9, 7+3)\\\\\n",
    "V(A) = \\min_{n \\in B,C,D}(10, 14, 10)\\\\\n",
    "V(A) = 10\\\\\n",
    "\\end{equation}\n",
    "\n",
    "The optimal paths are of length 10 and are either, based on forward recursion:\n",
    "\\begin{equation}\n",
    "A \\longrightarrow B \\longrightarrow C \\longrightarrow E \\longrightarrow F \\longrightarrow G\\\\\n",
    "A \\longrightarrow D \\longrightarrow G\n",
    "\\end{equation}\n",
    "\n",
    "The forward recursion (only following the optimal paths): \n",
    "\\begin{equation}\n",
    "V(A) = \\min_{n \\in B,D} (g\\left(A,a^{A,B}\\right) + V(B), g\\left(A,a^{A,D}\\right) + V(D)) \\\\\n",
    "V(A) = \\min_{n \\in B,D} (g\\left(A,a^{A,B}\\right) + g\\left(C,a^{C,E}\\right) + V(E), g\\left(A,a^{A,D}\\right) + g\\left(D,a^{D,G}\\right)) \\\\\n",
    "V(A) = \\min_{n \\in B,D} (g\\left(A,a^{A,B}\\right) + g\\left(C,a^{C,E}\\right) + g(E,a^{E,D}) + V(D), g\\left(A,a^{A,D}\\right) + g\\left(D,a^{D,G}\\right)) \\\\\n",
    "V(A) = \\min_{n \\in B,D} (g\\left(A,a^{A,B}\\right) + g\\left(C,a^{C,E}\\right) + g(E,a^{E,D}) + g\\left(D,a^{D,G}\\right), g\\left(A,a^{A,D}\\right) + g\\left(D,a^{D,G}\\right)) \\\\\n",
    "\\end{equation}\n",
    "\n",
    "This simplified to: \n",
    "\\begin{equation}\n",
    "V(A) = \\min_{n \\in B,D} (3 + 2 + 2 + 3, 7 + 3) \\\\\n",
    "V(A) = \\min_{n \\in B,D} (10,10) \\\\\n",
    "V(A) = 10\\\\\n",
    "\\end{equation}\n",
    "\n",
    "Given the two optimal paths, the solution is the shortest path. Ergo, the solution to this problem is:\n",
    "\\begin{equation}\n",
    "A \\longrightarrow D \\longrightarrow G\n",
    "\\end{equation}\n"
   ]
  },
  {
   "cell_type": "code",
   "execution_count": null,
   "metadata": {},
   "outputs": [],
   "source": []
  }
 ],
 "metadata": {
  "kernelspec": {
   "display_name": "Python 3",
   "language": "python",
   "name": "python3"
  },
  "language_info": {
   "codemirror_mode": {
    "name": "ipython",
    "version": 3
   },
   "file_extension": ".py",
   "mimetype": "text/x-python",
   "name": "python",
   "nbconvert_exporter": "python",
   "pygments_lexer": "ipython3",
   "version": "3.6.5"
  }
 },
 "nbformat": 4,
 "nbformat_minor": 2
}
