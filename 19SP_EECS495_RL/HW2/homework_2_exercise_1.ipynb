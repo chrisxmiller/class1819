{
 "cells": [
  {
   "cell_type": "code",
   "execution_count": 7,
   "metadata": {},
   "outputs": [
    {
     "name": "stdout",
     "output_type": "stream",
     "text": [
      "The autoreload extension is already loaded. To reload it, use:\n",
      "  %reload_ext autoreload\n"
     ]
    }
   ],
   "source": [
    "# import a custom plotting library\n",
    "import some_plotters as plotter\n",
    "\n",
    "# import autograd functionality\n",
    "import autograd.numpy as np\n",
    "\n",
    "# import path to datasets\n",
    "datapath = 'datasets/'\n",
    "\n",
    "# # this is needed to compensate for %matplotl+ib notebook's tendancy to blow up images when plotted inline\n",
    "# from matplotlib import rcParams\n",
    "# rcParams['figure.autolayout'] = True\n",
    "# %matplotlib notebook\n",
    "\n",
    "# autoreload function - so if anything behind the scenes is changeed those changes\n",
    "# are reflected in the notebook without having to restart the kernel\n",
    "%load_ext autoreload\n",
    "%autoreload 2\n",
    "\n",
    "#Imports\n",
    "from autograd.misc.flatten import flatten_func"
   ]
  },
  {
   "cell_type": "markdown",
   "metadata": {},
   "source": [
    "#### <span style=\"color:#a50e3e;\">Exercise 1: </span>  Train an unregularized PID controller for the cruise control problem"
   ]
  },
  {
   "cell_type": "markdown",
   "metadata": {},
   "source": [
    "In this exercise you will tune the parameters of a PID controller automatically so that the trained Imitation Model (that you trained in homework 1 exercise 1) matches the example set point sequence shown below relatively closely.  "
   ]
  },
  {
   "cell_type": "code",
   "execution_count": 8,
   "metadata": {},
   "outputs": [
    {
     "data": {
      "image/png": "[encoded data removed]",
      "text/plain": [
       "<Figure size 720x216 with 1 Axes>"
      ]
     },
     "metadata": {},
     "output_type": "display_data"
    }
   ],
   "source": [
    "# load in set point sequence\n",
    "csvname = 'datasets/cruise_setpoints.csv'\n",
    "set_points = np.loadtxt(csvname,delimiter = ',')[np.newaxis,:]\n",
    "\n",
    "# plot set point sequence\n",
    "plotter.plot_setpoints(set_points)"
   ]
  },
  {
   "cell_type": "markdown",
   "metadata": {},
   "source": [
    "Implement a `Pythonic` version of the PID controller Least Squares cost function discussed in the [course notes](https://jermwatt.github.io/control-notes/presentations/pid_control/pid_control_part_1.slides.html#/).  You should be able to learn an optimal action / state sequence pair so that your system model responds fairly well to the input set point sequence.  The image below shows the results of an action/state sequence pair learned by a fully tuned PID controller.  The top panel shows the set point sequence in dashed black, with the state sequence defined by the controller in blue.  The bottom panel shows the corresponding action sequence defined by the controller."
   ]
  },
  {
   "cell_type": "markdown",
   "metadata": {},
   "source": [
    "<figure>\n",
    "<p>\n",
    "<img src= 'images/pid_result.png' width=\"150%\" height=\"150%\" alt=\"\"/>\n",
    "</p>\n",
    "</figure>"
   ]
  },
  {
   "cell_type": "markdown",
   "metadata": {},
   "source": [
    "A few notes: \n",
    "\n",
    "- You will need a fully trained Imitation Model - which you created in Exercise 1 of Homework 1 - for this exercise.  This model - for example - clips actions between $\\left[-50,100\\right]$.\n",
    "\n",
    "\n",
    "- Even though a PID controller is technically a Recurrent Network (which can be slow to train), here we only deal with a fairly small dataset of set points and there only 4 parameters to tune - so you can apply the simplest kind of first order algorithm to properly minimize the controller cost (e.g., a full batch gradient descent optimizer).  However I've found that simpler approaches - like the zero-order coordinate descent algorithm discussed in the `homework_2_helper_functions.ipynb` notebook.\n",
    "\n",
    "\n",
    "- For this exercise you need not worry about cross-validating, simply tune it as best as you can.  The result above was achieved with less than 50 steps of zero order coordinate descent.\n",
    "\n",
    "\n",
    "- Examining the actions (the amount we depress the pedtal), notice how uncomfortable the driving experience above would be when transitioning between speed levels.  This would be crazy.  If we really wanted this controller to perform well we would need to *regularize* our Least Squares cost to avoid this kind of crazy behavior.  But you don't need to worry about that here."
   ]
  },
  {
   "cell_type": "code",
   "execution_count": 9,
   "metadata": {},
   "outputs": [],
   "source": [
    "#Implement the PID Controller\n",
    "def PID_controller(e, h, d, w):\n",
    "    return w[0] + w[1]*e + w[2]*h + w[3]*d    "
   ]
  },
  {
   "cell_type": "code",
   "execution_count": 17,
   "metadata": {},
   "outputs": [],
   "source": [
    "#Implement the control loop - computes the error, the integral, and the derivative terms\n",
    "def control_loop(x,w):\n",
    "    s_t = 0.0 #State computation. We're initializing it at zero. In most cases, we'd initalize it elsewhere. \n",
    "    h_t = 0.0\n",
    "    d_t = 0.0\n",
    "    step_size = 1/float(np.size(x))\n",
    "    act_hx = []\n",
    "    state_hx = [s_t]\n",
    "    err_hx = []\n",
    "    \n",
    "    #Loop over the training points and run through the controller/system models\n",
    "    for t in range(np.size(x)-1):\n",
    "        x_now = x[:,t]\n",
    "        \n",
    "        #Compute Error\n",
    "        err = x_now - s_t\n",
    "        err_hx.append(err)\n",
    "        \n",
    "        #Integral term (Riemann style)\n",
    "        h_t = h_t + err*step_size\n",
    "        \n",
    "        #Gotta have that D\n",
    "        if(t > 0):\n",
    "            #but only if the time is right \n",
    "            d_t = step_size*(err_hx[-1] - err_hx[-2])\n",
    "            #This is the error derivative between the most recent error and the one just prior.\n",
    "            #This derivative is the derivative *now*\n",
    "            \n",
    "        #Run that P-I-D\n",
    "        action_now = PID_controller(err, h_t, d_t, w)\n",
    "        \n",
    "        #Clip the action to bound it properly. \n",
    "        if action_now > 100.0:\n",
    "            action_now = 100.0\n",
    "        if action_now < -50.0:\n",
    "            action_now = 50.0\n",
    "        \n",
    "        #run the action on the model and collect the next state\n",
    "        s_t = tuned_system_model(s_t, action_now)\n",
    "        \n",
    "        #Store action-state pairs\n",
    "        act_hx.append(action_now)\n",
    "        state_hx.append(s_t)\n",
    "        \n",
    "    # Turn everything into an array\n",
    "    state_hx = np.array(state_hx)[np.newaxis,:]\n",
    "    act_hx = np.array(act_hx)[np.newaxis,:]\n",
    "    \n",
    "    # return velocities and control history\n",
    "    return state_hx, act_hx  "
   ]
  },
  {
   "cell_type": "code",
   "execution_count": 11,
   "metadata": {},
   "outputs": [],
   "source": [
    "#Cost function \n",
    "def least_squares(x,w):\n",
    "    #run the control loop using weights and states (x)\n",
    "    s_hx, a_hx = control_loop(x,w)\n",
    "    \n",
    "    #Compute the least squares error between the real and predicted states\n",
    "    #the absolute error is taking the place of the squared term here. \n",
    "    cost = np.sum(np.abs(s_hx[:,1:] - x[:,1:]))\n",
    "    return cost/float(x.shape[1]-1)"
   ]
  },
  {
   "cell_type": "code",
   "execution_count": 12,
   "metadata": {},
   "outputs": [],
   "source": [
    "#Coordinate gradient decent from the helper assignment \n",
    "# zero order coordinate search\n",
    "def coordinate_descent(g,w_init,alpha,max_its,verbose): \n",
    "    # flatten the input function\n",
    "    g_flat, unflatten, w = flatten_func(g, w_init)\n",
    "\n",
    "    # record history\n",
    "    w_hist = [unflatten(w)]\n",
    "    cost_eval = g_flat(w)\n",
    "    train_hist = [cost_eval]\n",
    "\n",
    "    # start loop\n",
    "    N = np.size(w)\n",
    "    for k in range(1,max_its+1):              \n",
    "        # random shuffle of coordinates\n",
    "        c = np.random.permutation(N)\n",
    "\n",
    "        # forming the direction matrix out of the loop\n",
    "        train_cost = train_hist[-1]\n",
    "\n",
    "        # loop over each coordinate direction\n",
    "        for n in range(N):\n",
    "            direction = np.zeros((N,1)).flatten()\n",
    "            direction[c[n]] = 1\n",
    "\n",
    "            # evaluate all candidates\n",
    "            evals =  [g_flat(w + alpha*direction)]\n",
    "            evals.append(g_flat(w - alpha*direction))\n",
    "            evals = np.array(evals)\n",
    "\n",
    "            # if we find a real descent direction take the step in its direction\n",
    "            ind = np.argmin(evals)\n",
    "            if evals[ind] < train_cost:\n",
    "                # take step\n",
    "                w = w + ((-1)**(ind))*alpha*direction\n",
    "                train_cost = evals[ind]\n",
    "\n",
    "        # record weight update, train and val costs\n",
    "        w_hist.append(unflatten(w))\n",
    "        train_hist.append(train_cost)\n",
    "\n",
    "        # print update\n",
    "        if verbose == True:\n",
    "            print ('step ' + str(k+1) + ' complete, train cost = ' + str(np.round(train_hist[-1],4)[0]))\n",
    "\n",
    "    # print update and return\n",
    "    if verbose == True:\n",
    "        print ('finished all ' + str(max_its) + ' steps')\n",
    "    return w_hist,train_hist"
   ]
  },
  {
   "cell_type": "code",
   "execution_count": 15,
   "metadata": {},
   "outputs": [],
   "source": [
    "#Tuned system model from HW1, P1\n",
    "def tuned_system_model(s,a):\n",
    "    #Weights from HW1P1, same with code\n",
    "    w = [0.00330096,0.91667633,0.0917037]\n",
    "    b = w[0] + s*w[1] + a*w[2]\n",
    "    return b"
   ]
  },
  {
   "cell_type": "code",
   "execution_count": 21,
   "metadata": {},
   "outputs": [
    {
     "name": "stdout",
     "output_type": "stream",
     "text": [
      "step 2 complete, train cost = 5.6448\n",
      "step 3 complete, train cost = 3.7913\n",
      "step 4 complete, train cost = 3.4533\n",
      "step 5 complete, train cost = 3.1812\n",
      "step 6 complete, train cost = 2.9582\n",
      "step 7 complete, train cost = 2.7719\n",
      "step 8 complete, train cost = 2.6129\n",
      "step 9 complete, train cost = 2.4742\n",
      "step 10 complete, train cost = 2.3508\n",
      "step 11 complete, train cost = 2.239\n",
      "step 12 complete, train cost = 2.1359\n",
      "step 13 complete, train cost = 2.0397\n",
      "step 14 complete, train cost = 1.9488\n",
      "step 15 complete, train cost = 1.8624\n",
      "step 16 complete, train cost = 1.7797\n",
      "step 17 complete, train cost = 1.7001\n",
      "step 18 complete, train cost = 1.6235\n",
      "step 19 complete, train cost = 1.6079\n",
      "step 20 complete, train cost = 1.5949\n",
      "step 21 complete, train cost = 1.581\n",
      "step 22 complete, train cost = 1.5452\n",
      "step 23 complete, train cost = 1.5285\n",
      "step 24 complete, train cost = 1.5106\n",
      "step 25 complete, train cost = 1.4792\n",
      "step 26 complete, train cost = 1.4603\n",
      "step 27 complete, train cost = 1.4422\n",
      "step 28 complete, train cost = 1.4242\n",
      "step 29 complete, train cost = 1.3935\n",
      "step 30 complete, train cost = 1.3749\n",
      "step 31 complete, train cost = 1.3535\n",
      "step 32 complete, train cost = 1.3297\n",
      "step 33 complete, train cost = 1.3112\n",
      "step 34 complete, train cost = 1.2934\n",
      "step 35 complete, train cost = 1.2698\n",
      "step 36 complete, train cost = 1.2516\n",
      "step 37 complete, train cost = 1.2343\n",
      "step 38 complete, train cost = 1.2138\n",
      "step 39 complete, train cost = 1.1962\n",
      "step 40 complete, train cost = 1.1797\n",
      "step 41 complete, train cost = 1.1638\n",
      "step 42 complete, train cost = 1.145\n",
      "step 43 complete, train cost = 1.1292\n",
      "step 44 complete, train cost = 1.1142\n",
      "step 45 complete, train cost = 1.0978\n",
      "step 46 complete, train cost = 1.0829\n",
      "step 47 complete, train cost = 1.0686\n",
      "step 48 complete, train cost = 1.0549\n",
      "step 49 complete, train cost = 1.0403\n",
      "step 50 complete, train cost = 1.0268\n",
      "step 51 complete, train cost = 1.0139\n",
      "step 52 complete, train cost = 1.0015\n",
      "step 53 complete, train cost = 0.9885\n",
      "step 54 complete, train cost = 0.9763\n",
      "step 55 complete, train cost = 0.9647\n",
      "step 56 complete, train cost = 0.9533\n",
      "step 57 complete, train cost = 0.9419\n",
      "step 58 complete, train cost = 0.931\n",
      "step 59 complete, train cost = 0.9203\n",
      "step 60 complete, train cost = 0.9101\n",
      "step 61 complete, train cost = 0.9001\n",
      "step 62 complete, train cost = 0.89\n",
      "step 63 complete, train cost = 0.8805\n",
      "step 64 complete, train cost = 0.8711\n",
      "step 65 complete, train cost = 0.8621\n",
      "step 66 complete, train cost = 0.8533\n",
      "step 67 complete, train cost = 0.8445\n",
      "step 68 complete, train cost = 0.8369\n",
      "step 69 complete, train cost = 0.8326\n",
      "step 70 complete, train cost = 0.8296\n",
      "step 71 complete, train cost = 0.8273\n",
      "step 72 complete, train cost = 0.8259\n",
      "step 73 complete, train cost = 0.8249\n",
      "step 74 complete, train cost = 0.8238\n",
      "step 75 complete, train cost = 0.8231\n",
      "step 76 complete, train cost = 0.823\n",
      "step 77 complete, train cost = 0.8227\n",
      "step 78 complete, train cost = 0.8225\n",
      "step 79 complete, train cost = 0.8224\n",
      "step 80 complete, train cost = 0.8222\n",
      "step 81 complete, train cost = 0.8221\n",
      "step 82 complete, train cost = 0.8219\n",
      "step 83 complete, train cost = 0.8217\n",
      "step 84 complete, train cost = 0.8216\n",
      "step 85 complete, train cost = 0.8214\n",
      "step 86 complete, train cost = 0.8213\n",
      "step 87 complete, train cost = 0.8211\n",
      "step 88 complete, train cost = 0.821\n",
      "step 89 complete, train cost = 0.8208\n",
      "step 90 complete, train cost = 0.8207\n",
      "step 91 complete, train cost = 0.8205\n",
      "step 92 complete, train cost = 0.8204\n",
      "step 93 complete, train cost = 0.8202\n",
      "step 94 complete, train cost = 0.8201\n",
      "step 95 complete, train cost = 0.8199\n",
      "step 96 complete, train cost = 0.8198\n",
      "step 97 complete, train cost = 0.8196\n",
      "step 98 complete, train cost = 0.8195\n",
      "step 99 complete, train cost = 0.8193\n",
      "step 100 complete, train cost = 0.8192\n",
      "step 101 complete, train cost = 0.819\n",
      "finished all 100 steps\n"
     ]
    }
   ],
   "source": [
    "#Learn the weights\n",
    "#Initial weights\n",
    "w_init = np.random.rand(4,1)\n",
    "max_its = 50\n",
    "alpha = 10**0\n",
    "\n",
    "#Lock onto the states and create the cost function\n",
    "g = lambda w, x = set_points: least_squares(x,w)\n",
    "\n",
    "whx,thx = coordinate_descent(g, w_init, alpha, max_its, verbose=True)\n"
   ]
  },
  {
   "cell_type": "code",
   "execution_count": null,
   "metadata": {},
   "outputs": [],
   "source": []
  }
 ],
 "metadata": {
  "kernelspec": {
   "display_name": "Python 3",
   "language": "python",
   "name": "python3"
  },
  "language_info": {
   "codemirror_mode": {
    "name": "ipython",
    "version": 3
   },
   "file_extension": ".py",
   "mimetype": "text/x-python",
   "name": "python",
   "nbconvert_exporter": "python",
   "pygments_lexer": "ipython3",
   "version": "3.6.5"
  }
 },
 "nbformat": 4,
 "nbformat_minor": 2
}
