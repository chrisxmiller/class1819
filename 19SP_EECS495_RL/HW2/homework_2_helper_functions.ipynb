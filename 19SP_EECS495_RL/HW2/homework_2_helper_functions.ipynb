{
 "cells": [
  {
   "cell_type": "markdown",
   "metadata": {},
   "source": [
    "# Homework 2 helper functions"
   ]
  },
  {
   "cell_type": "markdown",
   "metadata": {},
   "source": [
    "This notebook contains a range of helper functions that will be useful in completing exercise 1 of homework 2.  Read through the examples carefully - and afterwards either throw them into a simple library, or copy and paste relevant chunks for re-use."
   ]
  },
  {
   "cell_type": "code",
   "execution_count": 1,
   "metadata": {},
   "outputs": [],
   "source": [
    "# import autograd wrapped numpy\n",
    "import autograd.numpy as np\n",
    "\n",
    "# import path to datasets\n",
    "datapath = 'datasets/'\n",
    "\n",
    "# this is needed to compensate for %matplotl+ib notebook's tendancy to blow up images when plotted inline\n",
    "from matplotlib import rcParams\n",
    "rcParams['figure.autolayout'] = True\n",
    "%matplotlib notebook\n",
    "\n",
    "# autoreload function - so if anything behind the scenes is changeed those changes\n",
    "# are reflected in the notebook without having to restart the kernel\n",
    "%load_ext autoreload\n",
    "%autoreload 2"
   ]
  },
  {
   "cell_type": "markdown",
   "metadata": {},
   "source": [
    "# A simple zero-order optimization algo"
   ]
  },
  {
   "cell_type": "markdown",
   "metadata": {},
   "source": [
    "Below is a `Python` implementation of a simple *zero-order* optimization method called *coordinate descent*.  I've also seen it called the 'twiddle algorithm' - which I think is a stupid name.  If you like you can see [my set of notes](https://jermwatt.github.io/machine_learning_refined/notes/2_Zero_order_methods/2_6_Coordinate.html) describing this method.\n",
    "\n",
    "Zero order optimmization methods (also called *derivative free* methods) are really quite simple - but for certain applications they are very effective.  The basic gist: instead of using *first order information* ala gradient descent at each step, we literally try out a set of weights near our current step, plug them into the cost function, and choose the one that *decreases* the cost the most.  The particular algorithm below just searches along the *coordinate axes* at each step (thats how it beats the *curse of dimensionality*).\n",
    "\n",
    "In any case, the inputs of this function are as follows:\n",
    "\n",
    "- `g` : an input function to minimize\n",
    "- `w_init` : an initialization for the optimization process\n",
    "- `alpha` : steplength / learning rate\n",
    "- `max_its` : a maximum number of iterations to run\n",
    "- `verbose` : set to 'True\" to print the result of each step of gradient descent\n",
    "\n",
    "And the outputs:\n",
    "\n",
    "- `w_hist` : a history of each set of weights from the a run of gradient descent\n",
    "- `train_hist` : a corresponding cost function history"
   ]
  },
  {
   "cell_type": "code",
   "execution_count": 2,
   "metadata": {},
   "outputs": [],
   "source": [
    "import autograd.numpy as np\n",
    "from autograd.misc.flatten import flatten_func\n",
    "\n",
    "# zero order coordinate search\n",
    "def coordinate_descent(g,w_init,alpha,max_its,verbose): \n",
    "    # flatten the input function\n",
    "    g_flat, unflatten, w = flatten_func(g, w_init)\n",
    "\n",
    "    # record history\n",
    "    w_hist = [unflatten(w)]\n",
    "    cost_eval = g_flat(w)\n",
    "    train_hist = [cost_eval]\n",
    "\n",
    "    # start loop\n",
    "    N = np.size(w)\n",
    "    for k in range(1,max_its+1):              \n",
    "        # random shuffle of coordinates\n",
    "        c = np.random.permutation(N)\n",
    "\n",
    "        # forming the direction matrix out of the loop\n",
    "        train_cost = train_hist[-1]\n",
    "\n",
    "        # loop over each coordinate direction\n",
    "        for n in range(N):\n",
    "            direction = np.zeros((N,1)).flatten()\n",
    "            direction[c[n]] = 1\n",
    "\n",
    "            # evaluate all candidates\n",
    "            evals =  [g_flat(w + alpha*direction)]\n",
    "            evals.append(g_flat(w - alpha*direction))\n",
    "            evals = np.array(evals)\n",
    "\n",
    "            # if we find a real descent direction take the step in its direction\n",
    "            ind = np.argmin(evals)\n",
    "            if evals[ind] < train_cost:\n",
    "                # take step\n",
    "                w = w + ((-1)**(ind))*alpha*direction\n",
    "                train_cost = evals[ind]\n",
    "\n",
    "        # record weight update, train and val costs\n",
    "        w_hist.append(unflatten(w))\n",
    "        train_hist.append(train_cost)\n",
    "\n",
    "        # print update\n",
    "        if verbose == True:\n",
    "            print ('step ' + str(k+1) + ' complete, train cost = ' + str(np.round(train_hist[-1],4)[0]))\n",
    "\n",
    "    # print update and return\n",
    "    if verbose == True:\n",
    "        print ('finished all ' + str(max_its) + ' steps')\n",
    "    return w_hist,train_hist"
   ]
  },
  {
   "cell_type": "markdown",
   "metadata": {},
   "source": [
    "A simple demonstration using a toy function - a simple $10$ dimensional quadratic centered at the origin."
   ]
  },
  {
   "cell_type": "code",
   "execution_count": 5,
   "metadata": {
    "scrolled": true
   },
   "outputs": [
    {
     "name": "stdout",
     "output_type": "stream",
     "text": [
      "step 2 complete, train cost = 0.1366\n",
      "step 3 complete, train cost = 0.1175\n",
      "step 4 complete, train cost = 0.1003\n",
      "step 5 complete, train cost = 0.0848\n",
      "step 6 complete, train cost = 0.0712\n",
      "step 7 complete, train cost = 0.0592\n",
      "step 8 complete, train cost = 0.0487\n",
      "step 9 complete, train cost = 0.0399\n",
      "step 10 complete, train cost = 0.0324\n",
      "step 11 complete, train cost = 0.026\n",
      "step 12 complete, train cost = 0.0206\n",
      "step 13 complete, train cost = 0.0159\n",
      "step 14 complete, train cost = 0.0121\n",
      "step 15 complete, train cost = 0.009\n",
      "step 16 complete, train cost = 0.0065\n",
      "step 17 complete, train cost = 0.0045\n",
      "step 18 complete, train cost = 0.0028\n",
      "step 19 complete, train cost = 0.0016\n",
      "step 20 complete, train cost = 0.0008\n",
      "step 21 complete, train cost = 0.0004\n",
      "step 22 complete, train cost = 0.0001\n",
      "step 23 complete, train cost = 0.0001\n",
      "step 24 complete, train cost = 0.0001\n",
      "step 25 complete, train cost = 0.0001\n",
      "step 26 complete, train cost = 0.0001\n",
      "step 27 complete, train cost = 0.0001\n",
      "step 28 complete, train cost = 0.0001\n",
      "step 29 complete, train cost = 0.0001\n",
      "step 30 complete, train cost = 0.0001\n",
      "step 31 complete, train cost = 0.0001\n",
      "step 32 complete, train cost = 0.0001\n",
      "step 33 complete, train cost = 0.0001\n",
      "step 34 complete, train cost = 0.0001\n",
      "step 35 complete, train cost = 0.0001\n",
      "step 36 complete, train cost = 0.0001\n",
      "step 37 complete, train cost = 0.0001\n",
      "step 38 complete, train cost = 0.0001\n",
      "step 39 complete, train cost = 0.0001\n",
      "step 40 complete, train cost = 0.0001\n",
      "step 41 complete, train cost = 0.0001\n",
      "step 42 complete, train cost = 0.0001\n",
      "step 43 complete, train cost = 0.0001\n",
      "step 44 complete, train cost = 0.0001\n",
      "step 45 complete, train cost = 0.0001\n",
      "step 46 complete, train cost = 0.0001\n",
      "step 47 complete, train cost = 0.0001\n",
      "step 48 complete, train cost = 0.0001\n",
      "step 49 complete, train cost = 0.0001\n",
      "step 50 complete, train cost = 0.0001\n",
      "step 51 complete, train cost = 0.0001\n",
      "step 52 complete, train cost = 0.0001\n",
      "step 53 complete, train cost = 0.0001\n",
      "step 54 complete, train cost = 0.0001\n",
      "step 55 complete, train cost = 0.0001\n",
      "step 56 complete, train cost = 0.0001\n",
      "step 57 complete, train cost = 0.0001\n",
      "step 58 complete, train cost = 0.0001\n",
      "step 59 complete, train cost = 0.0001\n",
      "step 60 complete, train cost = 0.0001\n",
      "step 61 complete, train cost = 0.0001\n",
      "step 62 complete, train cost = 0.0001\n",
      "step 63 complete, train cost = 0.0001\n",
      "step 64 complete, train cost = 0.0001\n",
      "step 65 complete, train cost = 0.0001\n",
      "step 66 complete, train cost = 0.0001\n",
      "step 67 complete, train cost = 0.0001\n",
      "step 68 complete, train cost = 0.0001\n",
      "step 69 complete, train cost = 0.0001\n",
      "step 70 complete, train cost = 0.0001\n",
      "step 71 complete, train cost = 0.0001\n",
      "step 72 complete, train cost = 0.0001\n",
      "step 73 complete, train cost = 0.0001\n",
      "step 74 complete, train cost = 0.0001\n",
      "step 75 complete, train cost = 0.0001\n",
      "step 76 complete, train cost = 0.0001\n",
      "step 77 complete, train cost = 0.0001\n",
      "step 78 complete, train cost = 0.0001\n",
      "step 79 complete, train cost = 0.0001\n",
      "step 80 complete, train cost = 0.0001\n",
      "step 81 complete, train cost = 0.0001\n",
      "step 82 complete, train cost = 0.0001\n",
      "step 83 complete, train cost = 0.0001\n",
      "step 84 complete, train cost = 0.0001\n",
      "step 85 complete, train cost = 0.0001\n",
      "step 86 complete, train cost = 0.0001\n",
      "step 87 complete, train cost = 0.0001\n",
      "step 88 complete, train cost = 0.0001\n",
      "step 89 complete, train cost = 0.0001\n",
      "step 90 complete, train cost = 0.0001\n",
      "step 91 complete, train cost = 0.0001\n",
      "step 92 complete, train cost = 0.0001\n",
      "step 93 complete, train cost = 0.0001\n",
      "step 94 complete, train cost = 0.0001\n",
      "step 95 complete, train cost = 0.0001\n",
      "step 96 complete, train cost = 0.0001\n",
      "step 97 complete, train cost = 0.0001\n",
      "step 98 complete, train cost = 0.0001\n",
      "step 99 complete, train cost = 0.0001\n",
      "step 100 complete, train cost = 0.0001\n",
      "step 101 complete, train cost = 0.0001\n",
      "finished all 100 steps\n"
     ]
    }
   ],
   "source": [
    "# a simple toy function\n",
    "g = lambda w: np.dot(w.T,w)\n",
    "\n",
    "# run gradient descent algo above to minimize toy function\n",
    "w_init = 0.1*np.random.randn(10,1)\n",
    "max_its = 100\n",
    "alpha = 10**(-2)\n",
    "w_hist,train_hist = coordinate_descent(g,w_init,alpha,max_its,verbose=True)"
   ]
  },
  {
   "cell_type": "markdown",
   "metadata": {},
   "source": [
    "Print out the best weights from this run.  Note the global minimum here is at the origin where the cost function takes on zero value.  We get quite close."
   ]
  },
  {
   "cell_type": "code",
   "execution_count": 6,
   "metadata": {},
   "outputs": [
    {
     "name": "stdout",
     "output_type": "stream",
     "text": [
      "======== best set of weights ========\n",
      "[[ 0.00493771]\n",
      " [ 0.00419128]\n",
      " [ 0.00324805]\n",
      " [ 0.00178891]\n",
      " [-0.0038823 ]\n",
      " [ 0.00187136]\n",
      " [ 0.00307746]\n",
      " [ 0.00084684]\n",
      " [ 0.00359387]\n",
      " [-0.00154483]]\n",
      "======== best associated cost val ========\n",
      "[9.97623488e-05]\n"
     ]
    }
   ],
   "source": [
    "### determine and show the best set of weights / cost evaluation from this run\n",
    "# index of the minimum cost value attained\n",
    "ind = np.argmin(train_hist)\n",
    "\n",
    "# corresponding weights and cost evaluation\n",
    "w_best = w_hist[ind]\n",
    "g_best = train_hist[ind]\n",
    "print('======== best set of weights ========')\n",
    "print(w_best)\n",
    "print('======== best associated cost val ========')\n",
    "print(g_best)"
   ]
  },
  {
   "cell_type": "markdown",
   "metadata": {},
   "source": [
    "Here is a small function to print out a picture of the cost function history."
   ]
  },
  {
   "cell_type": "code",
   "execution_count": 7,
   "metadata": {},
   "outputs": [],
   "source": [
    "import matplotlib.pyplot as plt\n",
    "def plot_cost_function_history(cost_history):\n",
    "    figure = plt.figure(figsize = (10,3))\n",
    "    plt.plot(cost_history)\n",
    "    plt.xlabel('iteration')\n",
    "    plt.ylabel('cost value',rotation = 90)\n",
    "    plt.show()"
   ]
  },
  {
   "cell_type": "code",
   "execution_count": 8,
   "metadata": {},
   "outputs": [
    {
     "data": {
      "image/png": "[encoded data removed]",
      "text/plain": [
       "<Figure size 720x216 with 1 Axes>"
      ]
     },
     "metadata": {
      "needs_background": "light"
     },
     "output_type": "display_data"
    }
   ],
   "source": [
    "# print out that cost function history plot\n",
    "plot_cost_function_history(train_hist)"
   ]
  }
 ],
 "metadata": {
  "kernelspec": {
   "display_name": "Python 3",
   "language": "python",
   "name": "python3"
  },
  "language_info": {
   "codemirror_mode": {
    "name": "ipython",
    "version": 3
   },
   "file_extension": ".py",
   "mimetype": "text/x-python",
   "name": "python",
   "nbconvert_exporter": "python",
   "pygments_lexer": "ipython3",
   "version": "3.6.5"
  }
 },
 "nbformat": 4,
 "nbformat_minor": 2
}
