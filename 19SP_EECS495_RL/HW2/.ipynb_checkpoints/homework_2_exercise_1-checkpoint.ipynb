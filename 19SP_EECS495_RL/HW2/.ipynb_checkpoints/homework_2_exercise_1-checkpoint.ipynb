{
 "cells": [
  {
   "cell_type": "code",
   "execution_count": 1,
   "metadata": {},
   "outputs": [],
   "source": [
    "# import a custom plotting library\n",
    "import some_plotters as plotter\n",
    "\n",
    "# import autograd functionality\n",
    "import autograd.numpy as np\n",
    "\n",
    "# import path to datasets\n",
    "datapath = 'datasets/'\n",
    "\n",
    "# # this is needed to compensate for %matplotl+ib notebook's tendancy to blow up images when plotted inline\n",
    "# from matplotlib import rcParams\n",
    "# rcParams['figure.autolayout'] = True\n",
    "# %matplotlib notebook\n",
    "\n",
    "# autoreload function - so if anything behind the scenes is changeed those changes\n",
    "# are reflected in the notebook without having to restart the kernel\n",
    "%load_ext autoreload\n",
    "%autoreload 2\n",
    "\n",
    "#Imports\n",
    "from autograd.misc.flatten import flatten_func\n",
    "import matplotlib.pyplot as plt"
   ]
  },
  {
   "cell_type": "markdown",
   "metadata": {},
   "source": [
    "#### <span style=\"color:#a50e3e;\">Exercise 1: </span>  Train an unregularized PID controller for the cruise control problem"
   ]
  },
  {
   "cell_type": "markdown",
   "metadata": {},
   "source": [
    "In this exercise you will tune the parameters of a PID controller automatically so that the trained Imitation Model (that you trained in homework 1 exercise 1) matches the example set point sequence shown below relatively closely.  "
   ]
  },
  {
   "cell_type": "code",
   "execution_count": 2,
   "metadata": {},
   "outputs": [
    {
     "data": {
      "image/png": "[encoded data removed]",
      "text/plain": [
       "<Figure size 720x216 with 1 Axes>"
      ]
     },
     "metadata": {},
     "output_type": "display_data"
    }
   ],
   "source": [
    "# load in set point sequence\n",
    "csvname = 'datasets/cruise_setpoints.csv'\n",
    "set_points = np.loadtxt(csvname,delimiter = ',')[np.newaxis,:]\n",
    "\n",
    "# plot set point sequence\n",
    "plotter.plot_setpoints(set_points)"
   ]
  },
  {
   "cell_type": "markdown",
   "metadata": {},
   "source": [
    "Implement a `Pythonic` version of the PID controller Least Squares cost function discussed in the [course notes](https://jermwatt.github.io/control-notes/presentations/pid_control/pid_control_part_1.slides.html#/).  You should be able to learn an optimal action / state sequence pair so that your system model responds fairly well to the input set point sequence.  The image below shows the results of an action/state sequence pair learned by a fully tuned PID controller.  The top panel shows the set point sequence in dashed black, with the state sequence defined by the controller in blue.  The bottom panel shows the corresponding action sequence defined by the controller."
   ]
  },
  {
   "cell_type": "markdown",
   "metadata": {},
   "source": [
    "<figure>\n",
    "<p>\n",
    "<img src= 'images/pid_result.png' width=\"150%\" height=\"150%\" alt=\"\"/>\n",
    "</p>\n",
    "</figure>"
   ]
  },
  {
   "cell_type": "markdown",
   "metadata": {},
   "source": [
    "A few notes: \n",
    "\n",
    "- You will need a fully trained Imitation Model - which you created in Exercise 1 of Homework 1 - for this exercise.  This model - for example - clips actions between $\\left[-50,100\\right]$.\n",
    "\n",
    "\n",
    "- Even though a PID controller is technically a Recurrent Network (which can be slow to train), here we only deal with a fairly small dataset of set points and there only 4 parameters to tune - so you can apply the simplest kind of first order algorithm to properly minimize the controller cost (e.g., a full batch gradient descent optimizer).  However I've found that simpler approaches - like the zero-order coordinate descent algorithm discussed in the `homework_2_helper_functions.ipynb` notebook.\n",
    "\n",
    "\n",
    "- For this exercise you need not worry about cross-validating, simply tune it as best as you can.  The result above was achieved with less than 50 steps of zero order coordinate descent.\n",
    "\n",
    "\n",
    "- Examining the actions (the amount we depress the pedtal), notice how uncomfortable the driving experience above would be when transitioning between speed levels.  This would be crazy.  If we really wanted this controller to perform well we would need to *regularize* our Least Squares cost to avoid this kind of crazy behavior.  But you don't need to worry about that here."
   ]
  },
  {
   "cell_type": "code",
   "execution_count": 25,
   "metadata": {},
   "outputs": [],
   "source": [
    "#Implement the PID Controller\n",
    "def PID_controller(e, h, d, w):\n",
    "    return w[0]+ w[1]*e + w[2]*h + w[3]*d    "
   ]
  },
  {
   "cell_type": "code",
   "execution_count": 26,
   "metadata": {},
   "outputs": [],
   "source": [
    "#Implement the control loop - computes the error, the integral, and the derivative terms\n",
    "def control_loop(x,w):\n",
    "    s_t = 0.0 #State computation. We're initializing it at zero. In most cases, we'd initalize it elsewhere. \n",
    "    h_t = 0.0\n",
    "    d_t = 0.0\n",
    "    step_size = 1/float(np.size(x))\n",
    "    act_hx = []\n",
    "    state_hx = [s_t]\n",
    "    err_hx = []\n",
    "    \n",
    "    #Loop over the training points and run through the controller/system models\n",
    "    for t in range(np.size(x)-1):\n",
    "        x_now = x[:,t]\n",
    "        \n",
    "        #Compute Error\n",
    "        err = x_now - s_t\n",
    "        err_hx.append(err)\n",
    "        \n",
    "        #Integral term (Riemann style)\n",
    "        h_t = h_t + err*step_size\n",
    "        \n",
    "        #Gotta have that D\n",
    "        if(t > 0):\n",
    "            #but only if the time is right \n",
    "            d_t = step_size*(err_hx[-1] - err_hx[-2])\n",
    "            #This is the error derivative between the most recent error and the one just prior.\n",
    "            #This derivative is the derivative *now*\n",
    "            \n",
    "        #Run that P-I-D\n",
    "        action_now = PID_controller(err, h_t, d_t, w)\n",
    "        \n",
    "        #Clip the action to bound it properly. \n",
    "        if action_now >= 100.0:\n",
    "            action_now = 100.0\n",
    "        if action_now <= -50.0:\n",
    "            action_now = -50.0\n",
    "        \n",
    "        #run the action on the model and collect the next state\n",
    "        s_t = tuned_system_model(s_t, action_now)\n",
    "        \n",
    "        #Store action-state pairs\n",
    "        act_hx.append(action_now)\n",
    "        state_hx.append(s_t)\n",
    "        \n",
    "    # Turn everything into an array\n",
    "    state_hx = np.array(state_hx)[np.newaxis,:]\n",
    "    act_hx = np.array(act_hx)[np.newaxis,:]\n",
    "    \n",
    "    # return velocities and control history\n",
    "    return state_hx, act_hx  "
   ]
  },
  {
   "cell_type": "code",
   "execution_count": 27,
   "metadata": {},
   "outputs": [],
   "source": [
    "#Cost function \n",
    "def least_squares(x,w):\n",
    "    #run the control loop using weights and states (x)\n",
    "    s_hx, a_hx = control_loop(x,w)\n",
    "    \n",
    "    #Compute the least squares error between the real and predicted states\n",
    "    #the absolute error is taking the place of the squared term here. \n",
    "    cost = np.sum(np.abs(s_hx[:,1:] - x[:,1:]))\n",
    "    return cost/float(x.shape[1]-1)"
   ]
  },
  {
   "cell_type": "code",
   "execution_count": 28,
   "metadata": {},
   "outputs": [],
   "source": [
    "#Coordinate gradient decent from the helper assignment \n",
    "# zero order coordinate search\n",
    "def coordinate_descent(g,w_init,alpha,max_its,verbose): \n",
    "    # flatten the input function\n",
    "    g_flat, unflatten, w = flatten_func(g, w_init)\n",
    "\n",
    "    # record history\n",
    "    w_hist = [unflatten(w)]\n",
    "    cost_eval = g_flat(w)\n",
    "    train_hist = [cost_eval]\n",
    "\n",
    "    # start loop\n",
    "    N = np.size(w)\n",
    "    for k in range(1,max_its+1):              \n",
    "        # random shuffle of coordinates\n",
    "        c = np.random.permutation(N)\n",
    "\n",
    "        # forming the direction matrix out of the loop\n",
    "        train_cost = train_hist[-1]\n",
    "\n",
    "        # loop over each coordinate direction\n",
    "        for n in range(N):\n",
    "            direction = np.zeros((N,1)).flatten()\n",
    "            direction[c[n]] = 1\n",
    "\n",
    "            # evaluate all candidates\n",
    "            evals =  [g_flat(w + alpha*direction)]\n",
    "            evals.append(g_flat(w - alpha*direction))\n",
    "            evals = np.array(evals)\n",
    "\n",
    "            # if we find a real descent direction take the step in its direction\n",
    "            ind = np.argmin(evals)\n",
    "            if evals[ind] < train_cost:\n",
    "                # take step\n",
    "                w = w + ((-1)**(ind))*alpha*direction\n",
    "                train_cost = evals[ind]\n",
    "\n",
    "        # record weight update, train and val costs\n",
    "        w_hist.append(unflatten(w))\n",
    "        train_hist.append(train_cost)\n",
    "\n",
    "        # print update\n",
    "        if verbose == True:\n",
    "            print ('step ' + str(k+1) + ' complete, train cost = ' + str(np.round(train_hist[-1],4)[0]))\n",
    "\n",
    "    # print update and return\n",
    "    if verbose == True:\n",
    "        print ('finished all ' + str(max_its) + ' steps')\n",
    "    return w_hist,train_hist"
   ]
  },
  {
   "cell_type": "code",
   "execution_count": 29,
   "metadata": {},
   "outputs": [],
   "source": [
    "#Tuned system model from HW1, P1 - returns the next state given the present state and the present action. \n",
    "def tuned_system_model(s,a):\n",
    "    #Weights from HW1P1, same with code\n",
    "    w = [0.00330096, 0.91667633, 0.0917037]\n",
    "    b = w[0] + s*w[1] + a*w[2]\n",
    "    return b"
   ]
  },
  {
   "cell_type": "code",
   "execution_count": 30,
   "metadata": {},
   "outputs": [],
   "source": [
    "#Learn the weights\n",
    "#Initial weights\n",
    "w_init = np.random.rand(4,1)\n",
    "max_its = 100\n",
    "alpha = 10**0\n",
    "\n",
    "#Lock onto the states and create the cost function\n",
    "g = lambda w, x = set_points: least_squares(x,w)\n",
    "\n",
    "#Run the minimization\n",
    "whx,thx = coordinate_descent(g, w_init, alpha, max_its, verbose=False)"
   ]
  },
  {
   "cell_type": "code",
   "execution_count": 31,
   "metadata": {},
   "outputs": [
    {
     "name": "stdout",
     "output_type": "stream",
     "text": [
      "--Best Cost--\n",
      "[ 0.61041366]\n",
      "--Best Weights--\n",
      "[[ 19.94978657]\n",
      " [ 16.41453895]\n",
      " [ 17.22979407]\n",
      " [-95.78336424]]\n"
     ]
    }
   ],
   "source": [
    "#Pull the best weights. \n",
    "ind = np.argmin(thx)\n",
    "w_best = whx[ind]\n",
    "gbest = thx[ind]\n",
    "#Print the best cost and the best weights\n",
    "print(\"--Best Cost--\")\n",
    "print(gbest)\n",
    "print(\"--Best Weights--\")\n",
    "print(w_best)"
   ]
  },
  {
   "cell_type": "code",
   "execution_count": 32,
   "metadata": {},
   "outputs": [
    {
     "data": {
      "image/png": "[encoded data removed]",
      "text/plain": [
       "<Figure size 648x288 with 1 Axes>"
      ]
     },
     "metadata": {},
     "output_type": "display_data"
    }
   ],
   "source": [
    "# --- SOLUTION --- \n",
    "\n",
    "#Run the control loop to grab the PID gains and the resulting action-state pairs\n",
    "result_state, result_action = control_loop(set_points, w_best)\n",
    "\n",
    "#Setup a plot for states estimated. \n",
    "plt.figure(num = 2,figsize = (9,4))\n",
    "plt.title(\"State vs State Estimate Plot\")\n",
    "plt.xlabel(\"Time Step\")\n",
    "plt.ylabel(\"State Range\")\n",
    "\n",
    "#Plot states estimated\n",
    "plt.plot(result_state.T)\n",
    "\n",
    "#Plot truth\n",
    "plt.plot(set_points.T)\n",
    "\n",
    "#Legend and Display\n",
    "plt.legend([\"State - Estimate\", \"State - Truth\"])\n",
    "plt.show()"
   ]
  },
  {
   "cell_type": "markdown",
   "metadata": {},
   "source": [
    "The above plot closely models the plot presented above and is, therefore, sufficient for the assignment"
   ]
  },
  {
   "cell_type": "code",
   "execution_count": 40,
   "metadata": {},
   "outputs": [
    {
     "data": {
      "image/png": "[encoded data removed]",
      "text/plain": [
       "<Figure size 648x288 with 1 Axes>"
      ]
     },
     "metadata": {},
     "output_type": "display_data"
    }
   ],
   "source": [
    "#Setup a plot for actions estimated. \n",
    "plt.figure(num = 3,figsize = (9,4))\n",
    "plt.title(\"Action Estimate Plot\")\n",
    "plt.xlabel(\"Time Step\")\n",
    "plt.ylabel(\"State Range\")\n",
    "\n",
    "#Plot states estimated\n",
    "res_act = result_action\n",
    "plt.plot(res_act.T)\n",
    "\n",
    "#Legend and display\n",
    "plt.legend([\"Action - Estimate\"])\n",
    "plt.show()"
   ]
  },
  {
   "cell_type": "markdown",
   "metadata": {},
   "source": [
    "The above action plot models the presented actions plot and is, therefore, sufficient for this assignment"
   ]
  },
  {
   "cell_type": "code",
   "execution_count": 41,
   "metadata": {},
   "outputs": [],
   "source": [
    "def plot_cost_function_history(cost_history):\n",
    "    figure = plt.figure(num = 4, figsize = (10,3))\n",
    "    plt.plot(cost_history)\n",
    "    plt.xlabel('iteration')\n",
    "    plt.ylabel('cost value',rotation = 90)\n",
    "    plt.show()"
   ]
  },
  {
   "cell_type": "code",
   "execution_count": 42,
   "metadata": {},
   "outputs": [
    {
     "data": {
      "image/png": "[encoded data removed]",
      "text/plain": [
       "<Figure size 720x216 with 1 Axes>"
      ]
     },
     "metadata": {},
     "output_type": "display_data"
    }
   ],
   "source": [
    "plot_cost_function_history(thx)"
   ]
  },
  {
   "cell_type": "markdown",
   "metadata": {},
   "source": [
    "The above cost function indicates quick and sufficient convergence for this problem. "
   ]
  }
 ],
 "metadata": {
  "kernelspec": {
   "display_name": "Python 3",
   "language": "python",
   "name": "python3"
  },
  "language_info": {
   "codemirror_mode": {
    "name": "ipython",
    "version": 3
   },
   "file_extension": ".py",
   "mimetype": "text/x-python",
   "name": "python",
   "nbconvert_exporter": "python",
   "pygments_lexer": "ipython3",
   "version": "3.6.5"
  }
 },
 "nbformat": 4,
 "nbformat_minor": 2
}
