{
 "cells": [
  {
   "cell_type": "code",
   "execution_count": 1,
   "metadata": {},
   "outputs": [],
   "source": [
    "# import a custom plotting library\n",
    "import some_plotters as plotter\n",
    "\n",
    "# import autograd functionality\n",
    "import autograd.numpy as np\n",
    "\n",
    "# import path to datasets\n",
    "datapath = 'datasets/'\n",
    "\n",
    "# # this is needed to compensate for %matplotl+ib notebook's tendancy to blow up images when plotted inline\n",
    "# from matplotlib import rcParams\n",
    "# rcParams['figure.autolayout'] = True\n",
    "# %matplotlib notebook\n",
    "\n",
    "# autoreload function - so if anything behind the scenes is changeed those changes\n",
    "# are reflected in the notebook without having to restart the kernel\n",
    "%load_ext autoreload\n",
    "%autoreload 2"
   ]
  },
  {
   "cell_type": "markdown",
   "metadata": {},
   "source": [
    "#### <span style=\"color:#a50e3e;\">Exercise 1: </span>  Train an unregularized PID controller for the cruise control problem"
   ]
  },
  {
   "cell_type": "markdown",
   "metadata": {},
   "source": [
    "In this exercise you will tune the parameters of a PID controller automatically so that the trained Imitation Model (that you trained in homework 1 exercise 1) matches the example set point sequence shown below relatively closely.  "
   ]
  },
  {
   "cell_type": "code",
   "execution_count": 2,
   "metadata": {},
   "outputs": [
    {
     "data": {
      "image/png": "[encoded data removed]",
      "text/plain": [
       "<Figure size 720x216 with 1 Axes>"
      ]
     },
     "metadata": {
      "needs_background": "light"
     },
     "output_type": "display_data"
    }
   ],
   "source": [
    "# load in set point sequence\n",
    "csvname = 'datasets/cruise_setpoints.csv'\n",
    "set_points = np.loadtxt(csvname,delimiter = ',')[np.newaxis,:]\n",
    "\n",
    "# plot set point sequence\n",
    "plotter.plot_setpoints(set_points)"
   ]
  },
  {
   "cell_type": "markdown",
   "metadata": {},
   "source": [
    "Implement a `Pythonic` version of the PID controller Least Squares cost function discussed in the [course notes](https://jermwatt.github.io/control-notes/presentations/pid_control/pid_control_part_1.slides.html#/).  You should be able to learn an optimal action / state sequence pair so that your system model responds fairly well to the input set point sequence.  The image below shows the results of an action/state sequence pair learned by a fully tuned PID controller.  The top panel shows the set point sequence in dashed black, with the state sequence defined by the controller in blue.  The bottom panel shows the corresponding action sequence defined by the controller."
   ]
  },
  {
   "cell_type": "markdown",
   "metadata": {},
   "source": [
    "<figure>\n",
    "<p>\n",
    "<img src= 'images/pid_result.png' width=\"150%\" height=\"150%\" alt=\"\"/>\n",
    "</p>\n",
    "</figure>"
   ]
  },
  {
   "cell_type": "markdown",
   "metadata": {},
   "source": [
    "A few notes: \n",
    "\n",
    "- You will need a fully trained Imitation Model - which you created in Exercise 1 of Homework 1 - for this exercise.  This model - for example - clips actions between $\\left[-50,100\\right]$.\n",
    "\n",
    "\n",
    "- Even though a PID controller is technically a Recurrent Network (which can be slow to train), here we only deal with a fairly small dataset of set points and there only 4 parameters to tune - so you can apply the simplest kind of first order algorithm to properly minimize the controller cost (e.g., a full batch gradient descent optimizer).  However I've found that simpler approaches - like the zero-order coordinate descent algorithm discussed in the `homework_2_helper_functions.ipynb` notebook.\n",
    "\n",
    "\n",
    "- For this exercise you need not worry about cross-validating, simply tune it as best as you can.  The result above was achieved with less than 50 steps of zero order coordinate descent.\n",
    "\n",
    "\n",
    "- Examining the actions (the amount we depress the pedtal), notice how uncomfortable the driving experience above would be when transitioning between speed levels.  This would be crazy.  If we really wanted this controller to perform well we would need to *regularize* our Least Squares cost to avoid this kind of crazy behavior.  But you don't need to worry about that here."
   ]
  }
 ],
 "metadata": {
  "kernelspec": {
   "display_name": "Python 3",
   "language": "python",
   "name": "python3"
  },
  "language_info": {
   "codemirror_mode": {
    "name": "ipython",
    "version": 3
   },
   "file_extension": ".py",
   "mimetype": "text/x-python",
   "name": "python",
   "nbconvert_exporter": "python",
   "pygments_lexer": "ipython3",
   "version": "3.6.5"
  }
 },
 "nbformat": 4,
 "nbformat_minor": 2
}
