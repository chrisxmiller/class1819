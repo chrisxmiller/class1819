{
 "cells": [
  {
   "cell_type": "markdown",
   "metadata": {},
   "source": [
    "### Christopher Miller\n",
    "### Homework 2 - EECS495 - Chapter 4 Assignments\n",
    "### Northwestern University - Fall 2018\n",
    "\n",
    "Problems 4,5,6,7 ** I elected to do problem 6 instead of 8 **\n",
    "\n",
    "#### Problem 4\n",
    "Repeat the experiment from example 4.6 and generate a cost function history plot. You may use the implementation of Newton's method in 4.3.5 as a base for this exercise. \n",
    "\n",
    "Minimize the function: $g(w) = \\frac{1}{50}(w^4+w^2+10w)+0.5$\n",
    "\n",
    "Where:\n",
    "$w_0 = 2.5$\n"
   ]
  },
  {
   "cell_type": "code",
   "execution_count": 200,
   "metadata": {},
   "outputs": [
    {
     "data": {
      "image/png": "[encoded data removed]",
      "text/plain": [
       "<Figure size 432x288 with 1 Axes>"
      ]
     },
     "metadata": {},
     "output_type": "display_data"
    },
    {
     "name": "stdout",
     "output_type": "stream",
     "text": [
      "The Minimum found for this function is:  0.330030715537\n"
     ]
    }
   ],
   "source": [
    "#imports\n",
    "import autograd.numpy as np\n",
    "import matplotlib.pyplot as plt\n",
    "from autograd import grad\n",
    "from autograd import hessian \n",
    "   \n",
    "def newtons_method_simple(g, w_0, max_its, epsilon):\n",
    "    #Gradient and hessian of G\n",
    "    gradient = grad(g)\n",
    "    hess = hessian(g)\n",
    "    \n",
    "    #Init W\n",
    "    w = w_0\n",
    "    \n",
    "    # Set Episilon     \n",
    "    eps = epsilon\n",
    "    \n",
    "    #Weight and cost histories with initial conditions\n",
    "    w_hx = [w_0]\n",
    "    c_hx = [g(w_0)]\n",
    "    \n",
    "    for k in range(max_its):\n",
    "        #Numerical gradient for the given step\n",
    "        g_eval = gradient(w)\n",
    "        h_eval = hess(w)\n",
    "        \n",
    "        #Reshape the hessian \n",
    "        h_eval.shape = (int((np.size(h_eval))**(0.5)),int((np.size(h_eval))**(0.5)))\n",
    "        \n",
    "        #Solve the second order system using the numerically efficent method from the book\n",
    "        #Also fix for the 1-D case to generalize the function \n",
    "        epshess = h_eval + eps*np.eye(w.size)\n",
    "        \n",
    "        #Follow computational efficency\n",
    "        # this is the same as w = w - d/dx/(d^2/dx^2 + eps)\n",
    "        w = np.linalg.solve(epshess,np.dot(epshess,w) - g_eval)\n",
    "                \n",
    "        #Record weight and cost\n",
    "        w_hx.append(w)\n",
    "        c_hx.append(g(w))\n",
    "        \n",
    "    return w_hx, c_hx\n",
    "\n",
    "#define the cost function for the problem\n",
    "def g(w):\n",
    "    return ((1.0/50.0)*(w**(4.0)+w**(2.0)+10.0*w)) + 0.50\n",
    "\n",
    "\n",
    "#Solve for the minima\n",
    "num_steps = 10\n",
    "w_0 = np.array([2.5])\n",
    "eps = 10**(-7)\n",
    "whx,chx = newtons_method_simple(g,w_0,num_steps,eps)\n",
    "\n",
    "plt.plot(list(range(0,len(chx),1)), chx)\n",
    "plt.xlabel('Step')\n",
    "plt.ylabel('g(w)')\n",
    "plt.title('Cost Function History Plot for Newton''s Method ')\n",
    "plt.show()\n",
    "\n",
    "print('The Minimum found for this function is: ',chx[-1][0])\n"
   ]
  },
  {
   "cell_type": "markdown",
   "metadata": {},
   "source": [
    "#### Problem 5 \n",
    "\n",
    "a) Use the first order condition to determine the unique stationary point of the function: $g(\\mathbf w) = \\log(1+e^{\\mathbf w^T \\mathbf w})$ where $\\mathbf w = [w_1, w_2]^T$. For this we assume log implied the use of the natural log. "
   ]
  },
  {
   "cell_type": "markdown",
   "metadata": {},
   "source": [
    "The stationary point of this function will be the point at which $\\nabla_\\mathbf w g(\\mathbf w) = 0$\n",
    "\n",
    "Using a solver such as Mathematica, the gradient of this function is  for $w_1$ and $w_2$, $\\frac{2w_1e^{w_1^2+w_2^2}}{e^{w_1^2+w_2^2}+1}$, $\\frac{2w_2e^{w_1^2+w_2^2}}{e^{w_1^2+w_2^2}+1}$ respectively. By inspection, we can see the stationary point of this function occurs when $\\mathbf w = 0_{Nx1}$ -- it's noted that this was proven by example for the N = 2 case. Luckily, this expands out for N > 2 as well."
   ]
  },
  {
   "cell_type": "markdown",
   "metadata": {},
   "source": [
    "b) Using the second order condition, we can determine the function's concavity. Here, we use the Hessian and solve for the function $\\nabla_\\mathbf w ^2 g(\\mathbf w) $. Using a solver this resolves to: $\\nabla_\\mathbf w ^2 g(\\mathbf w) = \\frac{4e^{2(w_1^2+w_2^2)}(e^{w_1^2+w_2^2}+2w_1^2 + 2w_2^2+1)}{e^{w_1^2+w_2^2}+1}$.\n",
    "\n",
    "By inspection we can see that  $\\nabla_\\mathbf w ^2 g(\\mathbf w)$  $>$  $0$    $\\forall$ $\\mathbf w$ which means the function is convex.\n",
    "\n",
    "Again, this problem was proven for N = 2 but this function and logic works for N > 2 as well. "
   ]
  },
  {
   "cell_type": "markdown",
   "metadata": {},
   "source": [
    "c) Now, we perform Newton's method to find the minimum of $g(\\mathbf w)$ for $\\mathbf w^0 = \\mathbf 1_{Nx1}$. We plot the cost function history plot for 10 steps of the algorithm. "
   ]
  },
  {
   "cell_type": "code",
   "execution_count": 201,
   "metadata": {},
   "outputs": [
    {
     "data": {
      "image/png": "[encoded data removed]",
      "text/plain": [
       "<Figure size 432x288 with 1 Axes>"
      ]
     },
     "metadata": {},
     "output_type": "display_data"
    },
    {
     "name": "stdout",
     "output_type": "stream",
     "text": [
      "The Minimum found for this function is:  0.69314718056\n"
     ]
    }
   ],
   "source": [
    "##Newton's method didn't change from above, so reuse. \n",
    "\n",
    "#Define the function, g\n",
    "\n",
    "def g(w):\n",
    "    return np.log(1+np.exp(np.dot(np.transpose(w),w)))\n",
    "\n",
    "#Solve for the minima\n",
    "num_steps = 10\n",
    "w_0 = np.array([1.0,1.0])\n",
    "#METHOD \n",
    "whx,chx = newtons_method_simple(g,w_0,num_steps,eps) \n",
    " \n",
    "plt.plot(list(range(0,len(chx),1)), chx)\n",
    "plt.xlabel('Step')\n",
    "plt.ylabel('g(w)')\n",
    "plt.title('Cost Function History Plot for Newton''s Method ')\n",
    "plt.show()\n",
    "\n",
    "print('The Minimum found for this function is: ',chx[-1])\n"
   ]
  },
  {
   "cell_type": "markdown",
   "metadata": {},
   "source": [
    "d) Now, initialize using $\\mathbf w^0 = 4 \\cdot \\mathbf 1_{Nx1}$ and notice the more rapid convergence. Explain why the second order Taylor series approximation of $g(\\mathbf w)$ centered at $\\mathbf w^0 = 4 \\cdot \\mathbf 1_{Nx1}$ is the minimum of $g(\\mathbf w)$."
   ]
  },
  {
   "cell_type": "code",
   "execution_count": 202,
   "metadata": {},
   "outputs": [
    {
     "data": {
      "image/png": "[encoded data removed]",
      "text/plain": [
       "<Figure size 432x288 with 1 Axes>"
      ]
     },
     "metadata": {},
     "output_type": "display_data"
    },
    {
     "name": "stdout",
     "output_type": "stream",
     "text": [
      "The Minimum found for this function is:  0.69314718056\n"
     ]
    }
   ],
   "source": [
    "#Redefine the inital point, then run and plot\n",
    "w_0 = 4.0*np.array([1.0,1.0])\n",
    "\n",
    "#METHOD \n",
    "whx,chx = newtons_method_simple(g,w_0,num_steps,eps) \n",
    "\n",
    "plt.plot(list(range(0,len(chx),1)), chx)\n",
    "plt.xlabel('Step')\n",
    "plt.ylabel('g(w)')\n",
    "plt.title('Cost Function History Plot for Newton''s Method ')\n",
    "plt.show()\n",
    "\n",
    "print('The Minimum found for this function is: ',chx[-1])\n"
   ]
  },
  {
   "cell_type": "markdown",
   "metadata": {},
   "source": [
    "The \"true\" global minimum of this function (barring numerical errors) should be centered at 0,0. This function is highly concave and extremely steep for higher values of $\\mathbf w$. With this in mind, initalizing at smaller values will require smaller descent steps than initalizations at larger values thus leading to the demonstrated behavior. "
   ]
  },
  {
   "cell_type": "markdown",
   "metadata": {},
   "source": [
    "#### Problem 6\n",
    "\n",
    "Use Newton's method to compute a square root of the number: 999. Briefly explain how you setup the cost function and how you could use zero or first order methods to find this solution. \n",
    "\n",
    "To find the cost function, we consider the problem: $w^2 = 999$. We want to find $x$.\n",
    "\n",
    "Using the above equality we can frame the problem as: $w^2 - 999 = 0$. \n",
    "\n",
    "To solve this we can use Newton's method as it is typically defined in a calculus I course (the method used in this class is defined for optimization). \n",
    "\n",
    "In other words, we use the first order approximation. We find the tangent line at $w_k$, find where it crosses the x-axis, and step to that position. In other words: $0 = g(w) + g'(w)(w_{k+1} - w_k)$\n",
    "\n",
    "Solving for this well-known problem we realize we can solve for w iteratively by solving: $w_{k+1} = w_k - \\frac{g(w_k)}{f'(w_k)} $. Substituting in $g(w) = w^2 - 999,$ we find: $w_{k+1} = \\frac 1 2 w_k + \\frac{999}{w_k}$\n",
    "\n",
    "The code block below solves this problem. \n",
    "\n",
    "** History Fact ** If I recall correctly, Newton developed Newton's method to solve for complex square roots!\n"
   ]
  },
  {
   "cell_type": "code",
   "execution_count": 238,
   "metadata": {},
   "outputs": [
    {
     "name": "stdout",
     "output_type": "stream",
     "text": [
      "The square root of 999 is:  [ 31.60696126]\n"
     ]
    },
    {
     "data": {
      "image/png": "[encoded data removed]",
      "text/plain": [
       "<Figure size 432x288 with 1 Axes>"
      ]
     },
     "metadata": {},
     "output_type": "display_data"
    }
   ],
   "source": [
    "#Define initalization\n",
    "w_0 = np.array([32.0])\n",
    "num_steps = 10\n",
    "\n",
    "def g(w):\n",
    "    return w*w - 999.0\n",
    "\n",
    "whx = [w_0]\n",
    "chx = [g(w_0)]\n",
    "\n",
    "for k in range(num_steps):\n",
    "    w = (0.5)*(whx[k] + (999.0/whx[k]))\n",
    "    whx.append(w)\n",
    "    chx.append(g(w))\n",
    "\n",
    "print('The square root of 999 is: ', whx[-1])\n",
    "\n",
    "plt.plot(list(range(0,len(chx),1)), chx)\n",
    "plt.xlabel('Step')\n",
    "plt.ylabel('g(w)')\n",
    "plt.title('Cost Function History Plot for Newton''s Method ')\n",
    "plt.show()\n"
   ]
  },
  {
   "cell_type": "markdown",
   "metadata": {},
   "source": [
    "It's visible that this method converges similarly quickly to the Newton's method as used in optimization. Newton's method for root finding uses a single derivative (as shown here) and for optimization uses a second derivative. \n",
    "\n",
    "Newton's method for solving square roots essentially *is* the realization of gradient descent with a stopping point of $g(w)=0$ instead of the local optima. Ergo, gradient decent with a stopping parameter when $g(w) ~ 0$ could be used to solve this problem. "
   ]
  },
  {
   "cell_type": "markdown",
   "metadata": {},
   "source": [
    "#### Problem 7\n",
    "Use (regularized) Newton's method to minimize the function: $g(w) = cos(w)$ with starting point $w_0 = 0.1$ ensuring a decrease at every step. "
   ]
  },
  {
   "cell_type": "code",
   "execution_count": 222,
   "metadata": {},
   "outputs": [
    {
     "data": {
      "image/png": "[encoded data removed]",
      "text/plain": [
       "<Figure size 432x288 with 1 Axes>"
      ]
     },
     "metadata": {},
     "output_type": "display_data"
    }
   ],
   "source": [
    "# Since the Newton's method realized above is already normalized (adds episilon), it will be reused. \n",
    "\n",
    "def g(w): \n",
    "    return np.cos(w)\n",
    "\n",
    "w_0 = np.array([0.1])\n",
    "num_steps = 10\n",
    "eps = 10**(0)\n",
    "\n",
    "#METHOD \n",
    "whx,chx = newtons_method_simple(g,w_0,num_steps,eps)\n",
    "\n",
    "plt.plot(list(range(0,len(chx),1)), chx)\n",
    "plt.xlabel('Step')\n",
    "plt.ylabel('g(w)')\n",
    "plt.title('Cost Function History Plot for Newton''s Method ')\n",
    "plt.show()"
   ]
  },
  {
   "cell_type": "markdown",
   "metadata": {},
   "source": [
    "For this problem to converge, the value of $\\epsilon$ needed to be large. This is because the function needed to be \"kicked\" out of a local optimality as to find the nearest minima. "
   ]
  }
 ],
 "metadata": {
  "kernelspec": {
   "display_name": "Python 3",
   "language": "python",
   "name": "python3"
  },
  "language_info": {
   "codemirror_mode": {
    "name": "ipython",
    "version": 3
   },
   "file_extension": ".py",
   "mimetype": "text/x-python",
   "name": "python",
   "nbconvert_exporter": "python",
   "pygments_lexer": "ipython3",
   "version": "3.6.5"
  }
 },
 "nbformat": 4,
 "nbformat_minor": 2
}
