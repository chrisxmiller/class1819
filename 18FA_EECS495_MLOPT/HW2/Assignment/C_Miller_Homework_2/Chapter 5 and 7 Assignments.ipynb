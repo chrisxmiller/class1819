{
 "cells": [
  {
   "cell_type": "markdown",
   "metadata": {},
   "source": [
    "### Christopher Miller\n",
    "### Homework 2 - EECS495 - Chapter 4 Assignments\n",
    "### Northwestern University - Fall 2018\n",
    "\n",
    "Problems 5.1 and 7.10\n",
    "\n",
    "#### Problem 5 \n",
    "Fit a linear model to the US Student Loan Debt database by minimizing the linear regression least squares problem using a single Newton Step (known as solving the normal equations). Solve for the total debt in 2050 using this method. \n",
    "\n",
    "\n",
    "Having derived the normal equations function in two other classes, for this problem, I elected to use some prior linear algebra knowledge and solve. This was good practice at using numpy's linear algebra packages. \n",
    "\n",
    "Assemble data matrix as: $A = V^TV$ where $V  = [1 x x^2...]$\n",
    "Assemble b matrix as: $b = V^Ty$\n",
    "\n",
    "Then, solve the linear equation representing least squares: $ Ax = b$ via $bA^{-1} = x$ where $x$ contains the linear parameters. "
   ]
  },
  {
   "cell_type": "code",
   "execution_count": 109,
   "metadata": {},
   "outputs": [
    {
     "data": {
      "image/png": "[encoded data removed]",
      "text/plain": [
       "<Figure size 432x288 with 1 Axes>"
      ]
     },
     "metadata": {},
     "output_type": "display_data"
    },
    {
     "name": "stdout",
     "output_type": "stream",
     "text": [
      "VShape:  (40, 2)\n",
      "(2, 2)\n",
      "(2, 1)\n",
      "The equation for this trend is: y = 0.0803244174759 x -160.729045261\n",
      "The debt in 2050 will be: $ 3.93601056433  trillion dollars\n"
     ]
    }
   ],
   "source": [
    "# autograd wrapped numpy\n",
    "from autograd import numpy as np\n",
    "\n",
    "# import the dataset\n",
    "csvname = 'datasets/student_debt_data.csv'\n",
    "data = np.loadtxt(csvname,delimiter=',')\n",
    "\n",
    "# cut into input/output data\n",
    "x = data[0:1,:]\n",
    "y = data[1:,:]\n",
    "\n",
    "#Plot the raw data on a scatter plot\n",
    "import matplotlib.pyplot as plt\n",
    "figure = plt.figure()\n",
    "plt.scatter(x,y)\n",
    "plt.show()\n",
    "\n",
    "#Assemble the matricies \n",
    "v1 = x[0]**0\n",
    "v2 = x[0]**1\n",
    "V = np.transpose(np.vstack((v1,v2)))\n",
    "print('VShape: ',V.shape)\n",
    "\n",
    "#Get Linear regression parameters\n",
    "A = np.dot(np.transpose(V),V)\n",
    "print(A.shape)\n",
    "b = np.dot(np.transpose(V),np.transpose(y))\n",
    "print(b.shape)\n",
    "\n",
    "#solve the linear system\n",
    "x = np.dot(np.linalg.inv(A),b)\n",
    "print('The equation for this trend is: y =',x[1][0],'x',x[0][0])\n",
    "\n",
    "year = 2050\n",
    "out = x[1][0]*year + x[0][0]\n",
    "\n",
    "print('The debt in 2050 will be: $', out,' trillion dollars')\n"
   ]
  },
  {
   "cell_type": "markdown",
   "metadata": {},
   "source": [
    "#### Problem 7\n",
    "\n",
    "Recognize handwriting using scikit library and do matching using minibatch gradient descent methods. \n"
   ]
  },
  {
   "cell_type": "code",
   "execution_count": 112,
   "metadata": {},
   "outputs": [],
   "source": [
    "# load in data\n",
    "from sklearn.datasets import fetch_mldata\n",
    "mnist = fetch_mldata('MNIST original')\n",
    "\n",
    "# strip off input / output pairs\n",
    "x = mnist.data.T\n",
    "y = mnist.target[np.newaxis,:]"
   ]
  },
  {
   "cell_type": "code",
   "execution_count": 114,
   "metadata": {},
   "outputs": [],
   "source": [
    "# sample indices\n",
    "num_sample = 50000\n",
    "inds = np.random.permutation(y.shape[1])[:num_sample]\n",
    "x_sample = x[:,inds]\n",
    "y_sample = y[:,inds]"
   ]
  },
  {
   "cell_type": "code",
   "execution_count": 115,
   "metadata": {},
   "outputs": [
    {
     "data": {
      "image/png": "[encoded data removed]",
      "text/plain": [
       "<Figure size 720x288 with 16 Axes>"
      ]
     },
     "metadata": {},
     "output_type": "display_data"
    }
   ],
   "source": [
    "from matplotlib import gridspec\n",
    "from matplotlib.gridspec import GridSpec\n",
    "\n",
    "fig = plt.figure(figsize=(10,4))\n",
    "gs=GridSpec(4,10)\n",
    "\n",
    "for i in range(0, 16):\n",
    "    fig.add_subplot(gs[i%4 + int(i/4)*10])\n",
    "    plt.imshow(np.max(x_sample[:,i]) - np.reshape(x_sample[:,i],(28,28)), cmap='gray')\n",
    "    plt.xticks([]), plt.yticks([])\n",
    "    plt.axis('off') \n",
    "plt.show()"
   ]
  },
  {
   "cell_type": "code",
   "execution_count": 116,
   "metadata": {},
   "outputs": [],
   "source": [
    "# compute C linear combinations of input point, one per classifier\n",
    "def model(x,w):\n",
    "    a = w[0] + np.dot(x.T,w[1:])\n",
    "    return a.T\n",
    "\n",
    "# multiclass perceptron\n",
    "def multiclass_perceptron(w,x,y,iter):\n",
    "    # get subset of points\n",
    "    x_p = x[:,iter]\n",
    "    y_p = y[:,iter]\n",
    "\n",
    "    # pre-compute predictions on all points\n",
    "    all_evals = model(x_p,w)\n",
    "\n",
    "    # compute maximum across data points\n",
    "    a =  np.max(all_evals,axis = 0)        \n",
    "\n",
    "    # compute cost in compact form using numpy broadcasting\n",
    "    b = all_evals[y_p.astype(int).flatten(),np.arange(np.size(y_p))]\n",
    "    cost = np.sum(a - b)\n",
    "\n",
    "    # return average\n",
    "    return cost/float(np.size(y_p))"
   ]
  },
  {
   "cell_type": "code",
   "execution_count": 117,
   "metadata": {},
   "outputs": [
    {
     "name": "stdout",
     "output_type": "stream",
     "text": [
      "(785, 10)\n"
     ]
    }
   ],
   "source": [
    "#Define some matric\n",
    "N = x_sample.shape[0]\n",
    "C = len(np.unique(y_sample))\n",
    "w = 0.1*np.random.randn(N+1,C)\n",
    "print (w.shape)"
   ]
  },
  {
   "cell_type": "code",
   "execution_count": null,
   "metadata": {},
   "outputs": [],
   "source": []
  }
 ],
 "metadata": {
  "kernelspec": {
   "display_name": "Python 3",
   "language": "python",
   "name": "python3"
  },
  "language_info": {
   "codemirror_mode": {
    "name": "ipython",
    "version": 3
   },
   "file_extension": ".py",
   "mimetype": "text/x-python",
   "name": "python",
   "nbconvert_exporter": "python",
   "pygments_lexer": "ipython3",
   "version": "3.6.5"
  }
 },
 "nbformat": 4,
 "nbformat_minor": 2
}
