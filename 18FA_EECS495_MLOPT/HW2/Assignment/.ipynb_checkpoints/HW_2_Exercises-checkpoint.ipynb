{
 "cells": [
  {
   "cell_type": "markdown",
   "metadata": {},
   "source": [
    "Please perform the following exercises, each of which is worth $10$ points.  The instructions for most can be found at the end of the Chapter notes, however several include additional information / starter code which is provided below."
   ]
  },
  {
   "cell_type": "markdown",
   "metadata": {},
   "source": [
    " - **Chapter 3:** Exercises 11, 12, 13, and 14\n",
    " - **Chapter 4:** Exercises 4, 5, 7, and 8\n",
    " - **Chapter 5:** Exercise 1\n",
    " - **Chapter 7:** Exercise 10, using the multi-class Perceptron instead of the multi-class Softmax cost"
   ]
  },
  {
   "cell_type": "markdown",
   "metadata": {},
   "source": [
    "# Starter code for Chapter 3  Exercise 14"
   ]
  },
  {
   "cell_type": "markdown",
   "metadata": {},
   "source": [
    "To implement a summable function like the following simple sum of quadratics\n",
    "\n",
    "\\begin{equation}\n",
    "g\\left(\\mathbf{w}\\right) = \\sum_{p=1}^P g_p(w) = \\sum_{p=1}^P\\left( a^{\\,}_p + b_pw + c_pw^2\\right)\n",
    "\\end{equation}\n",
    "\n",
    "in `Python` we can leverage the built-in [`iter` function](https://www.w3schools.com/python/ref_func_iter.asp).  This allows one to easily build such functions so that we can access each of its summands.  \n",
    "\n",
    "Take the simple example, a function that simply sums its inputs `w` based on the indecies fed in via `iter`."
   ]
  },
  {
   "cell_type": "code",
   "execution_count": 4,
   "metadata": {
    "collapsed": true
   },
   "outputs": [],
   "source": [
    "# sum over elements of w in iter\n",
    "def sum_it(w,iter):\n",
    "    final_sum = 0\n",
    "    for i in iter:\n",
    "        final_sum += w[i]\n",
    "    return final_sum"
   ]
  },
  {
   "cell_type": "markdown",
   "metadata": {},
   "source": [
    "or equivalently - removing the inner `for` loop"
   ]
  },
  {
   "cell_type": "code",
   "execution_count": 12,
   "metadata": {
    "collapsed": true
   },
   "outputs": [],
   "source": [
    "# sum over elements of w in iter\n",
    "def sum_it(w,iter):\n",
    "    return np.sum(w[:,iter])"
   ]
  },
  {
   "cell_type": "markdown",
   "metadata": {},
   "source": [
    "So, for example we can feed in the array"
   ]
  },
  {
   "cell_type": "code",
   "execution_count": 13,
   "metadata": {
    "collapsed": true
   },
   "outputs": [],
   "source": [
    "w = np.array([1,5,2,3])[np.newaxis,:]"
   ]
  },
  {
   "cell_type": "markdown",
   "metadata": {},
   "source": [
    "Note: this is a two-dimensional array with shape"
   ]
  },
  {
   "cell_type": "code",
   "execution_count": 15,
   "metadata": {},
   "outputs": [
    {
     "name": "stdout",
     "output_type": "stream",
     "text": [
      "(1, 4)\n"
     ]
    }
   ],
   "source": [
    "print (w.shape)"
   ]
  },
  {
   "cell_type": "markdown",
   "metadata": {},
   "source": [
    "and return the sum of any of its elements we choose.  So, for example, to return the sum of all elements in the array we make the call"
   ]
  },
  {
   "cell_type": "code",
   "execution_count": 16,
   "metadata": {},
   "outputs": [
    {
     "data": {
      "text/plain": [
       "11"
      ]
     },
     "execution_count": 16,
     "metadata": {},
     "output_type": "execute_result"
    }
   ],
   "source": [
    "# sum over all elements in the input array\n",
    "sum_it(w,(0,1,2,3))"
   ]
  },
  {
   "cell_type": "markdown",
   "metadata": {},
   "source": [
    "Notice here that we feed in a `tuple` to indicate which indices of the array we wish to iterate over.  So, for example, to add the first and second components of the input `w` we write"
   ]
  },
  {
   "cell_type": "code",
   "execution_count": 17,
   "metadata": {},
   "outputs": [
    {
     "data": {
      "text/plain": [
       "4"
      ]
     },
     "execution_count": 17,
     "metadata": {},
     "output_type": "execute_result"
    }
   ],
   "source": [
    "# sum over the first and last element of the input\n",
    "sum_it(w,(0,3))"
   ]
  },
  {
   "cell_type": "markdown",
   "metadata": {},
   "source": [
    "and to sum over the first two elements of the array we likewise write"
   ]
  },
  {
   "cell_type": "code",
   "execution_count": 18,
   "metadata": {},
   "outputs": [
    {
     "data": {
      "text/plain": [
       "6"
      ]
     },
     "execution_count": 18,
     "metadata": {},
     "output_type": "execute_result"
    }
   ],
   "source": [
    "sum_it(w,(0,1))"
   ]
  },
  {
   "cell_type": "markdown",
   "metadata": {},
   "source": [
    "Using `iter` we can write out the sum of quadratics expressed algebraically above as shown below.  Notice in the first line we load in a set of random coefficients that will be used in this implementation.  In other words, below implement a sum o $P=100$ random quadratics whose weights are stored in the list `coeff`."
   ]
  },
  {
   "cell_type": "code",
   "execution_count": 3,
   "metadata": {},
   "outputs": [],
   "source": [
    "# autograd wrapped numpy\n",
    "from autograd import numpy as np\n",
    "\n",
    "# import pickle data loading functionality\n",
    "from sklearn.externals import joblib\n",
    "\n",
    "# load in weights of random convex quadratics\n",
    "coeffs = joblib.load('coeffs/random_quadratic_weights.pkl') \n",
    "\n",
    "# iter-based function for sum of quadratics\n",
    "def g(w,iter):\n",
    "    P = len(coeffs)\n",
    "    cost = 0\n",
    "    for i in iter:\n",
    "        # get quadratic\n",
    "        coeff = coeffs[i]\n",
    "        a = coeff[0]\n",
    "        b = coeff[1]\n",
    "        c = coeff[2]\n",
    "\n",
    "        # add to term\n",
    "        cost += (a + b*w + c*w**2)\n",
    "    return cost/P"
   ]
  },
  {
   "cell_type": "markdown",
   "metadata": {},
   "source": [
    "With this implementation in hand, compare the full batch and mini-batch gradient descent methods to minimize this quadratic.  In particular, compare two epochs of the full batch method with two epochs of a run using mini-batch sizes $1$ and $10$.  In each instance, just measure the total cost function value after each epoch (or sweep through the cost function summands)."
   ]
  },
  {
   "cell_type": "markdown",
   "metadata": {},
   "source": [
    "# Starter code for Chapter 5 Exercise 1"
   ]
  },
  {
   "cell_type": "code",
   "execution_count": 8,
   "metadata": {},
   "outputs": [],
   "source": [
    "# import the dataset\n",
    "csvname = 'datasets/student_debt_data.csv'\n",
    "data = np.loadtxt(csvname,delimiter=',')\n",
    "\n",
    "# cut into input/output data\n",
    "x = data[0:1,:]\n",
    "y = data[1:,:]"
   ]
  },
  {
   "cell_type": "markdown",
   "metadata": {},
   "source": [
    "Note the shape of our input/output pairs here - each datapoint lies in a single column of `data`."
   ]
  },
  {
   "cell_type": "code",
   "execution_count": 23,
   "metadata": {},
   "outputs": [
    {
     "data": {
      "image/png": "[encoded data removed]",
      "text/plain": [
       "<matplotlib.figure.Figure at 0x11b3eaa20>"
      ]
     },
     "metadata": {},
     "output_type": "display_data"
    }
   ],
   "source": [
    "import matplotlib.pyplot as plt\n",
    "figure = plt.figure()\n",
    "plt.scatter(x,y)\n",
    "plt.show()"
   ]
  },
  {
   "cell_type": "markdown",
   "metadata": {},
   "source": [
    "# Starter code for Chapter 7 Exercise 10"
   ]
  },
  {
   "cell_type": "markdown",
   "metadata": {},
   "source": [
    "Load in data - using `sklearn` import functionality."
   ]
  },
  {
   "cell_type": "code",
   "execution_count": 24,
   "metadata": {
    "collapsed": true
   },
   "outputs": [],
   "source": [
    "# load in data\n",
    "from sklearn.datasets import fetch_mldata\n",
    "mnist = fetch_mldata('MNIST original')\n",
    "\n",
    "# strip off input / output pairs\n",
    "x = mnist.data.T\n",
    "y = mnist.target[np.newaxis,:]"
   ]
  },
  {
   "cell_type": "code",
   "execution_count": 25,
   "metadata": {},
   "outputs": [
    {
     "name": "stdout",
     "output_type": "stream",
     "text": [
      "input shape =  (784, 70000)\n",
      "output shape =  (1, 70000)\n"
     ]
    }
   ],
   "source": [
    "print(\"input shape = \" , x.shape)\n",
    "print(\"output shape = \", y.shape)"
   ]
  },
  {
   "cell_type": "markdown",
   "metadata": {},
   "source": [
    "Randomly sample input / output pairs."
   ]
  },
  {
   "cell_type": "code",
   "execution_count": 26,
   "metadata": {
    "collapsed": true
   },
   "outputs": [],
   "source": [
    "# sample indices\n",
    "num_sample = 50000\n",
    "inds = np.random.permutation(y.shape[1])[:num_sample]\n",
    "x_sample = x[:,inds]\n",
    "y_sample = y[:,inds]"
   ]
  },
  {
   "cell_type": "code",
   "execution_count": 27,
   "metadata": {},
   "outputs": [
    {
     "data": {
      "image/png": "[encoded data removed]",
      "text/plain": [
       "<matplotlib.figure.Figure at 0x11c672080>"
      ]
     },
     "metadata": {},
     "output_type": "display_data"
    }
   ],
   "source": [
    "from matplotlib import gridspec\n",
    "from matplotlib.gridspec import GridSpec\n",
    "\n",
    "fig = plt.figure(figsize=(10,4))\n",
    "gs=GridSpec(4,10)\n",
    "\n",
    "for i in range(0, 16):\n",
    "    fig.add_subplot(gs[i%4 + int(i/4)*10])\n",
    "    plt.imshow(np.max(x_sample[:,i]) - np.reshape(x_sample[:,i],(28,28)), cmap='gray')\n",
    "    plt.xticks([]), plt.yticks([])\n",
    "    plt.axis('off') \n",
    "plt.show()"
   ]
  },
  {
   "cell_type": "markdown",
   "metadata": {},
   "source": [
    "Implementation of multi-class cost and gradient descent optimizer that takes in mini-batches."
   ]
  },
  {
   "cell_type": "code",
   "execution_count": 28,
   "metadata": {
    "collapsed": true
   },
   "outputs": [],
   "source": [
    "# compute C linear combinations of input point, one per classifier\n",
    "def model(x,w):\n",
    "    a = w[0] + np.dot(x.T,w[1:])\n",
    "    return a.T\n",
    "\n",
    "# multiclass perceptron\n",
    "def multiclass_perceptron(w,x,y,iter):\n",
    "    # get subset of points\n",
    "    x_p = x[:,iter]\n",
    "    y_p = y[:,iter]\n",
    "\n",
    "    # pre-compute predictions on all points\n",
    "    all_evals = model(x_p,w)\n",
    "\n",
    "    # compute maximum across data points\n",
    "    a =  np.max(all_evals,axis = 0)        \n",
    "\n",
    "    # compute cost in compact form using numpy broadcasting\n",
    "    b = all_evals[y_p.astype(int).flatten(),np.arange(np.size(y_p))]\n",
    "    cost = np.sum(a - b)\n",
    "\n",
    "    # return average\n",
    "    return cost/float(np.size(y_p))"
   ]
  },
  {
   "cell_type": "markdown",
   "metadata": {},
   "source": [
    "Note: this function takes in a matrix of weights, as shown below."
   ]
  },
  {
   "cell_type": "code",
   "execution_count": 30,
   "metadata": {},
   "outputs": [
    {
     "name": "stdout",
     "output_type": "stream",
     "text": [
      "(785, 10)\n"
     ]
    }
   ],
   "source": [
    "# create a matrix of weights to evaluate mult-class cost\n",
    "N = x_sample.shape[0]\n",
    "C = len(np.unique(y_sample))\n",
    "w = 0.1*np.random.randn(N+1,C)\n",
    "print (w.shape)"
   ]
  },
  {
   "cell_type": "markdown",
   "metadata": {},
   "source": [
    "We can evaluate the `multiclass_perceptron` function using this input matrix as shown below "
   ]
  },
  {
   "cell_type": "code",
   "execution_count": 33,
   "metadata": {},
   "outputs": [
    {
     "data": {
      "text/plain": [
       "920.4678976638857"
      ]
     },
     "execution_count": 33,
     "metadata": {},
     "output_type": "execute_result"
    }
   ],
   "source": [
    "pts_to_evaluate = (1,10,22)\n",
    "multiclass_perceptron(w,x_sample,y_sample,pts_to_evaluate)"
   ]
  },
  {
   "cell_type": "markdown",
   "metadata": {},
   "source": [
    "Note: comparing a run of full-batch versus mini-batch gradient descent using this function, because it takes in a matrix you may want to *flatten* the function prior to minimizing it.  You can find instructinos about how to do this via `autograd` in the attached Jupyter notebook called `flattening_functions_using_autograd.ipynb`."
   ]
  }
 ],
 "metadata": {
  "kernelspec": {
   "display_name": "Python 3",
   "language": "python",
   "name": "python3"
  },
  "language_info": {
   "codemirror_mode": {
    "name": "ipython",
    "version": 3
   },
   "file_extension": ".py",
   "mimetype": "text/x-python",
   "name": "python",
   "nbconvert_exporter": "python",
   "pygments_lexer": "ipython3",
   "version": "3.6.5"
  }
 },
 "nbformat": 4,
 "nbformat_minor": 2
}
