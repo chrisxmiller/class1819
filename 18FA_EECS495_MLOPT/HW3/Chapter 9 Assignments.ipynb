{
 "cells": [
  {
   "cell_type": "markdown",
   "metadata": {},
   "source": [
    "### Christopher Miller\n",
    "### Homework 3 - EECS495 - Chapter 9 Assignments\n",
    "### Northwestern University - Fall 2018\n",
    "\n",
    "Problems 9.3 and 9.6\n",
    "\n",
    "#### Problem 9.3\n",
    "Produce two contour plots of the Least Squares cost function over the student debt dataset: one for the dataset and one for the standard normalized edition. Compare the overall topology of each plot and describe which will be easier to optimize over using Gradient descent. \n",
    "\n",
    "Minimize the Least Squares cosat using the normalized version of gradient descent and recreate Figure 9.3.\n",
    "\n"
   ]
  },
  {
   "cell_type": "code",
   "execution_count": 1,
   "metadata": {},
   "outputs": [],
   "source": [
    "#Problem 9.3 - read in the data \n",
    "# libraries\n",
    "from autograd import numpy as np\n",
    "\n",
    "# import the dataset\n",
    "csvname = 'datasets/student_debt_data.csv'\n",
    "data = np.loadtxt(csvname,delimiter=',')\n",
    "\n",
    "# cut into input/output data\n",
    "x = data[0:1,:]\n",
    "y = data[1:,:]"
   ]
  },
  {
   "cell_type": "code",
   "execution_count": 3,
   "metadata": {},
   "outputs": [
    {
     "data": {
      "image/png": "[encoded data removed]",
      "text/plain": [
       "<Figure size 432x288 with 1 Axes>"
      ]
     },
     "metadata": {},
     "output_type": "display_data"
    }
   ],
   "source": [
    "#Import the data and make sure everything works\n",
    "import matplotlib.pyplot as plt\n",
    "figure = plt.figure()\n",
    "plt.scatter(x,y)\n",
    "plt.show()"
   ]
  },
  {
   "cell_type": "code",
   "execution_count": 128,
   "metadata": {},
   "outputs": [
    {
     "ename": "ValueError",
     "evalue": "operands could not be broadcast together with shapes (50,) (1,40) ",
     "output_type": "error",
     "traceback": [
      "\u001b[0;31m---------------------------------------------------------------------------\u001b[0m",
      "\u001b[0;31mValueError\u001b[0m                                Traceback (most recent call last)",
      "\u001b[0;32m<ipython-input-128-bd29f5957ab1>\u001b[0m in \u001b[0;36m<module>\u001b[0;34m()\u001b[0m\n\u001b[1;32m     15\u001b[0m \u001b[0;31m#Now, we run the cost function\u001b[0m\u001b[0;34m\u001b[0m\u001b[0;34m\u001b[0m\u001b[0m\n\u001b[1;32m     16\u001b[0m \u001b[0;34m\u001b[0m\u001b[0m\n\u001b[0;32m---> 17\u001b[0;31m \u001b[0mcost\u001b[0m \u001b[0;34m=\u001b[0m \u001b[0my\u001b[0m \u001b[0;34m-\u001b[0m \u001b[0;34m(\u001b[0m\u001b[0mw1\u001b[0m\u001b[0;34m*\u001b[0m\u001b[0mx\u001b[0m\u001b[0;34m+\u001b[0m\u001b[0mw0\u001b[0m\u001b[0;34m)\u001b[0m\u001b[0;34m\u001b[0m\u001b[0m\n\u001b[0m",
      "\u001b[0;31mValueError\u001b[0m: operands could not be broadcast together with shapes (50,) (1,40) "
     ]
    }
   ],
   "source": [
    "#Normalize the input points\n",
    "#mus\n",
    "mux = np.mean(x)\n",
    "#st-ds\n",
    "stx = np.std(x)\n",
    "#Normalize each\n",
    "xn = (x-mux)/stx\n",
    "\n",
    "#weight generation for contours (non-norm-ed)\n",
    "w0 = np.arange(-200,100,1)\n",
    "w1 = np.arange(0,5,0.1)\n",
    "\n",
    "#Make the mesh grid\n",
    "pltX, pltY = np.meshgrid(w0,w1)\n",
    "#Now, we run the cost function \n",
    "\n",
    "for i in range(0,len(w0)):\n",
    "    print(u)"
   ]
  },
  {
   "cell_type": "code",
   "execution_count": null,
   "metadata": {},
   "outputs": [],
   "source": []
  },
  {
   "cell_type": "code",
   "execution_count": null,
   "metadata": {},
   "outputs": [],
   "source": []
  },
  {
   "cell_type": "code",
   "execution_count": null,
   "metadata": {},
   "outputs": [],
   "source": []
  }
 ],
 "metadata": {
  "kernelspec": {
   "display_name": "Python 3",
   "language": "python",
   "name": "python3"
  },
  "language_info": {
   "codemirror_mode": {
    "name": "ipython",
    "version": 3
   },
   "file_extension": ".py",
   "mimetype": "text/x-python",
   "name": "python",
   "nbconvert_exporter": "python",
   "pygments_lexer": "ipython3",
   "version": "3.6.5"
  }
 },
 "nbformat": 4,
 "nbformat_minor": 2
}
