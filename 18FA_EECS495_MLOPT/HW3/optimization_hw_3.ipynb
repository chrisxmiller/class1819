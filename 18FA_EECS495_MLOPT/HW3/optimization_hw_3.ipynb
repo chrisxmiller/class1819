{
 "cells": [
  {
   "cell_type": "markdown",
   "metadata": {},
   "source": [
    "Please perform the following exercises, each of which is worth $10$ points.  The instructions for most can be found at the end of the Chapter notes, however several include additional information / starter code which is provided below.  **Use the version of the chapter notes included in this homework folder to complete the exercises.**"
   ]
  },
  {
   "cell_type": "markdown",
   "metadata": {},
   "source": [
    " - **Chapter 9:** Exercises 3 and 6"
   ]
  },
  {
   "cell_type": "markdown",
   "metadata": {},
   "source": [
    "# Starter code for Chapter 9  Exercise 3"
   ]
  },
  {
   "cell_type": "code",
   "execution_count": 6,
   "metadata": {},
   "outputs": [],
   "source": [
    "# libraries\n",
    "from autograd import numpy as np\n",
    "\n",
    "# import the dataset\n",
    "csvname = 'datasets/student_debt_data.csv'\n",
    "data = np.loadtxt(csvname,delimiter=',')\n",
    "\n",
    "# cut into input/output data\n",
    "x = data[0:1,:]\n",
    "y = data[1:,:]"
   ]
  },
  {
   "cell_type": "markdown",
   "metadata": {},
   "source": [
    "Note the shape of our input/output pairs here - each datapoint lies in a single column of `data`."
   ]
  },
  {
   "cell_type": "code",
   "execution_count": 9,
   "metadata": {},
   "outputs": [
    {
     "data": {
      "image/png": "[encoded data removed]",
      "text/plain": [
       "<matplotlib.figure.Figure at 0x10b2e5710>"
      ]
     },
     "metadata": {},
     "output_type": "display_data"
    }
   ],
   "source": [
    "import matplotlib.pyplot as plt\n",
    "figure = plt.figure()\n",
    "plt.scatter(x,y)\n",
    "plt.show()"
   ]
  },
  {
   "cell_type": "markdown",
   "metadata": {},
   "source": [
    "# Starter code for Chapter 9 Exercise 6"
   ]
  },
  {
   "cell_type": "markdown",
   "metadata": {},
   "source": [
    "Load in data - using `sklearn` import functionality."
   ]
  },
  {
   "cell_type": "code",
   "execution_count": 10,
   "metadata": {
    "collapsed": true
   },
   "outputs": [],
   "source": [
    "# load in data\n",
    "from sklearn.datasets import fetch_mldata\n",
    "mnist = fetch_mldata('MNIST original')\n",
    "\n",
    "# strip off input / output pairs\n",
    "x = mnist.data.T\n",
    "y = mnist.target[np.newaxis,:]"
   ]
  },
  {
   "cell_type": "code",
   "execution_count": 11,
   "metadata": {},
   "outputs": [
    {
     "name": "stdout",
     "output_type": "stream",
     "text": [
      "input shape =  (784, 70000)\n",
      "output shape =  (1, 70000)\n"
     ]
    }
   ],
   "source": [
    "print(\"input shape = \" , x.shape)\n",
    "print(\"output shape = \", y.shape)"
   ]
  },
  {
   "cell_type": "markdown",
   "metadata": {},
   "source": [
    "Randomly sample input / output pairs."
   ]
  },
  {
   "cell_type": "code",
   "execution_count": 12,
   "metadata": {
    "collapsed": true
   },
   "outputs": [],
   "source": [
    "# sample indices\n",
    "num_sample = 50000\n",
    "inds = np.random.permutation(y.shape[1])[:num_sample]\n",
    "x_sample = x[:,inds]\n",
    "y_sample = y[:,inds]"
   ]
  },
  {
   "cell_type": "markdown",
   "metadata": {},
   "source": [
    "An implementation of the multi-class Softmax cost is below."
   ]
  },
  {
   "cell_type": "code",
   "execution_count": 2,
   "metadata": {},
   "outputs": [],
   "source": [
    "# compute C linear combinations of input point, one per classifier\n",
    "def model(x,w):\n",
    "    a = w[0] + np.dot(x.T,w[1:])\n",
    "    return a.T\n",
    "\n",
    "# multiclass softmaax cost\n",
    "def multiclass_softmax(w,x,y):        \n",
    "    # pre-compute predictions on all points\n",
    "    all_evals = model(x,w)\n",
    "    \n",
    "    # compute softmax across data points\n",
    "    a = np.log(np.sum(np.exp(all_evals),axis = 0)) \n",
    "    \n",
    "    # compute cost in compact form using numpy broadcasting\n",
    "    b = all_evals[y.astype(int).flatten(),np.arange(np.size(y))]\n",
    "    cost = np.sum(a - b)\n",
    "    \n",
    "    # return average\n",
    "    return cost/float(np.size(y))\n",
    "\n",
    "g = multiclass_softmax"
   ]
  },
  {
   "cell_type": "code",
   "execution_count": null,
   "metadata": {},
   "outputs": [],
   "source": []
  }
 ],
 "metadata": {
  "kernelspec": {
   "display_name": "Python 3",
   "language": "python",
   "name": "python3"
  },
  "language_info": {
   "codemirror_mode": {
    "name": "ipython",
    "version": 3
   },
   "file_extension": ".py",
   "mimetype": "text/x-python",
   "name": "python",
   "nbconvert_exporter": "python",
   "pygments_lexer": "ipython3",
   "version": "3.6.5"
  }
 },
 "nbformat": 4,
 "nbformat_minor": 2
}
