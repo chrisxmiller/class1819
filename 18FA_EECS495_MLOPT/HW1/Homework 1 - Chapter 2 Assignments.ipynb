{
 "cells": [
  {
   "cell_type": "markdown",
   "metadata": {},
   "source": [
    "### EECS 495: Optimization Techniques for Machine Learning and Deep Learning\n",
    "Christopher Miller - cxm9046 - 3043894\n",
    "\n",
    "Homework 1: Chapter 2 Assignments (2.3, 2.4, 2.9)\n",
    "\n",
    "Northwestern University - Fall 2018 "
   ]
  },
  {
   "cell_type": "markdown",
   "metadata": {},
   "source": [
    "### Problem 2.3 - Implement random search to minimize: \n",
    "\n",
    "$$ g(w_0, w_1) = \\tanh(4w_{0}+4w_1)+\\max(0.4w_0^2,1)+1$$\n",
    "\n",
    "Using the conditions: P = 1000 directions, $\\alpha$ = 1, up to 8 steps, and initial point $w^0 = \\begin{bmatrix} 2 \\\\ 2\\end{bmatrix}$. "
   ]
  },
  {
   "cell_type": "code",
   "execution_count": 3,
   "metadata": {},
   "outputs": [
    {
     "name": "stdout",
     "output_type": "stream",
     "text": [
      "Starting Points:\n",
      "W_0: [2 2]\n",
      "g(w_0) =  3.6\n",
      "\n",
      "Ending Points:\n",
      "W_final: [-1.23607642 -3.47572775]\n",
      "g(W_final) =  1.0\n"
     ]
    }
   ],
   "source": [
    "#Problem 2.3 - Implement random search\n",
    "import numpy as np\n",
    "\n",
    "#Lists to store past values \n",
    "weights_past = []\n",
    "evals_past = []\n",
    "\n",
    "#Variable inits\n",
    "alpha = 1\n",
    "w_0 = np.array([2,2])\n",
    "P = 1000\n",
    "num_steps = 8\n",
    "\n",
    "#Define g\n",
    "def g(w):\n",
    "    return np.tanh(4*w[0]+4*w[1])+np.max([0.4*w[0]**2,1])+1\n",
    "\n",
    "#Define a helper function for generating random unit vectors of some length\n",
    "#Credit to Stack Overflow for this function: https://stackoverflow.com/questions/6283080/random-unit-vector-in-multi-dimensional-space\n",
    "#I started programming this...but their top solution was so elegant... \n",
    "def rand_unit_vec(len):\n",
    "    vec = [(np.random.rand(1)[0]-0.5)*2 for i in range(0,len)]\n",
    "    mag = sum(x*x for x in vec)**0.5\n",
    "    return np.transpose([x/mag for x in vec])\n",
    "\n",
    "# --- Store initial values ---\n",
    "\n",
    "#init the weights\n",
    "w = w_0\n",
    "\n",
    "#Store the inital values\n",
    "weights_past.append(w)\n",
    "evals_past.append(g(w))\n",
    "\n",
    "# --- Implement random local search ---\n",
    "for i in range(0, num_steps):\n",
    "    #init the descent directions for this tep\n",
    "    dirs = []\n",
    "    dir_evals = []\n",
    "    #Compute P descent directions - set the radius of the circle about which we will sample directions to\n",
    "    # be equal to 1. \n",
    "    for j in range(0,P):\n",
    "        #Generate direction and append\n",
    "        dirs.append(rand_unit_vec(2))\n",
    "        \n",
    "        #Evaluate at generated dir and append\n",
    "        dir_evals.append(g(w + dirs[j]))\n",
    "    \n",
    "    #Select the smallest descent direction\n",
    "    idx_sm = dir_evals.index(np.min(dir_evals))\n",
    "    \n",
    "    #Pull that direction\n",
    "    dir_sm = dirs[idx_sm]\n",
    "\n",
    "    #Check if the step + the current pos minimizes the function\n",
    "    if(g(w + dir_sm) < g(w)): \n",
    "        #Take descent step\n",
    "        w = w + alpha*dir_sm\n",
    "    \n",
    "        #Store the step and eval at that step\n",
    "        weights_past.append(w)\n",
    "        evals_past.append(g(w))\n",
    "      #If step doesn't further minimize function, break\n",
    "    else:\n",
    "        break\n",
    "#Print Values         \n",
    "print('Starting Points:') \n",
    "print('W_0:', w_0)\n",
    "print('g(w_0) = ',g(w_0))\n",
    "print()\n",
    "print('Ending Points:')\n",
    "print('W_final:', weights_past[7])\n",
    "print('g(W_final) = ',g(weights_past[7]))"
   ]
  },
  {
   "cell_type": "markdown",
   "metadata": {},
   "source": [
    "$\\textbf{Lesson Learned:}$ if $\\vec{w}$ is constantly increasing, then it's probably centered about $[0,1)$, bounding $w_1 \\times w_2$ to the $1^{st}$ quadrant in a 2D carteasian space. This will mean that $\\vec{w}$ can only increase in magnitude and you'll *never* converge. To fix this and save four hours of debugging, the random function should follow $rand \\in [-1,1)$ which is found by $2*(rand - 0.5)$."
   ]
  },
  {
   "cell_type": "markdown",
   "metadata": {},
   "source": [
    "### Problem 2.4 Using the diminishing steplength\n",
    "\n",
    "Minimize the famous *Rosenbrock Function*: $g(w_0,w_1) = 100(w_0-w_1^2)^2+(w_0-1)^2$\n",
    "\n",
    "The function has a global minimum at the point $\\textbf{w}^* = \\begin{bmatrix} 1 \\\\ 1\\end{bmatrix}$\n",
    "\n",
    "Implement for all runs using: $P = 1000$, initial point $w_0 = \\begin{bmatrix} -2 \\\\ -2\\end{bmatrix}$ and 50 steps.\n",
    "\n",
    "For the *first run* let $\\alpha = 1$ and for the *second run* let $\\alpha = 1/k$. \n",
    "\n",
    "#### The outputs for this problem are, for each implementation: \n",
    "- The cost function history \n",
    "- The number of iterations\n",
    "- The point of convergence\n",
    "- The vaue at the point of convergence \n",
    "\n",
    "#### The output for this problem: \n",
    "- Combine cost function history plot\n",
    "- Contour plot of the cost function with both runs"
   ]
  },
  {
   "cell_type": "code",
   "execution_count": 137,
   "metadata": {},
   "outputs": [
    {
     "name": "stdout",
     "output_type": "stream",
     "text": [
      "Minima of g(w) is: 0 located at w = [1,1]\n"
     ]
    },
    {
     "name": "stderr",
     "output_type": "stream",
     "text": [
      "/home/chris/anaconda3/lib/python3.6/site-packages/matplotlib/figure.py:2267: UserWarning: This figure includes Axes that are not compatible with tight_layout, so results might be incorrect.\n",
      "  warnings.warn(\"This figure includes Axes that are not compatible \"\n"
     ]
    },
    {
     "data": {
      "image/png": "[encoded data removed]",
      "text/plain": [
       "<Figure size 432x288 with 1 Axes>"
      ]
     },
     "metadata": {},
     "output_type": "display_data"
    },
    {
     "name": "stdout",
     "output_type": "stream",
     "text": [
      "Number of Steps for fixed length:  4\n",
      "Point of Convergence: [ 1.00289135 -1.00090282]\n",
      "Value of g() at point of convergence:  0.000126059175322\n"
     ]
    },
    {
     "data": {
      "image/png": "[encoded data removed]",
      "text/plain": [
       "<Figure size 432x288 with 1 Axes>"
      ]
     },
     "metadata": {},
     "output_type": "display_data"
    },
    {
     "name": "stdout",
     "output_type": "stream",
     "text": [
      "Number of Steps for fixed length:  24\n",
      "Point of Convergence: [ 0.92922821 -1.0010308 ]\n",
      "Value of g() at point of convergence:  0.535494493993\n"
     ]
    },
    {
     "data": {
      "image/png": "[encoded data removed]",
      "text/plain": [
       "<Figure size 432x288 with 1 Axes>"
      ]
     },
     "metadata": {},
     "output_type": "display_data"
    }
   ],
   "source": [
    "import matplotlib.pyplot as plt\n",
    "\n",
    "#Lists to store past values \n",
    "weights_past = []\n",
    "evals_past = []\n",
    "\n",
    "#Variable inits for all runs \n",
    "w_0 = np.array([-2,-2])\n",
    "P = 1000\n",
    "num_steps = 100\n",
    "alpha = 1.0 #For constant step length\n",
    "\n",
    "#Define g\n",
    "def g(w):\n",
    "    return 100*((w[0]-(w[1]**2))**2)+((w[0]-1)**2)\n",
    "\n",
    "\n",
    "#Storage for constant alpha\n",
    "g_const_alp = []\n",
    "w_const_alp = []\n",
    "\n",
    "#Storage for variable alpha\n",
    "g_var_alp = []\n",
    "w_var_alp = []\n",
    "\n",
    "#different Ws\n",
    "wfixed = w_0\n",
    "wvar = w_0\n",
    "\n",
    "#Store the ICs\n",
    "w_const_alp.append(wfixed)\n",
    "g_const_alp.append(g(wfixed))\n",
    "w_var_alp.append(wvar)\n",
    "g_var_alp.append(g(wvar))\n",
    "\n",
    "#Print the minima based on the book's solution\n",
    "print('Minima of g(w) is:',g([1,1]),'located at w = [1,1]')\n",
    "\n",
    "\n",
    "# --- Implement random local search for the fixed step length ---\n",
    "for i in range(0, num_steps):\n",
    "    #init the descent directions for this tep\n",
    "    dirs = []\n",
    "    dir_evals_fixed = []\n",
    "    #Compute P descent directions - set the radius of the circle about which we will sample directions to\n",
    "    # be equal to 1. \n",
    "    for j in range(0,P):\n",
    "        #Generate direction and append\n",
    "        dirs.append(rand_unit_vec(2))\n",
    "        \n",
    "        #Evaluate at generated dir with fixed step and append\n",
    "        dir_evals_fixed.append(g(wfixed + dirs[j]))\n",
    "    \n",
    "    #Select the smallest descent direction for fixed\n",
    "    idx_sm_fixed = dir_evals_fixed.index(np.min(dir_evals_fixed))\n",
    "    #Pull that direction\n",
    "    dir_sm_fixed = dirs[idx_sm_fixed]\n",
    "  \n",
    "    #Check if the step + the current pos minimizes the function for fixed step\n",
    "    if(g(wfixed + dir_sm_fixed) < g(wfixed)): \n",
    "        #Take descent step\n",
    "        wfixed = wfixed + alpha*dir_sm_fixed\n",
    "    \n",
    "        #Store the step and eval at that step\n",
    "        w_const_alp.append(wfixed)\n",
    "        g_const_alp.append(g(wfixed))\n",
    "#     #If step doesn't further minimize function, break\n",
    "#     else:\n",
    "#         break\n",
    "        \n",
    "plt.plot(list(range(0,len(g_const_alp),1)), g_const_alp, 'g')\n",
    "plt.title('Constant Step Length Cost Fucntion History Plot')\n",
    "plt.xlabel('Step')\n",
    "plt.ylabel('g(w)')\n",
    "plt.show()\n",
    "print('Number of Steps for fixed length: ',len(g_const_alp)-1)\n",
    "print('Point of Convergence:',w_const_alp[-1])\n",
    "print('Value of g() at point of convergence: ',g_const_alp[-1])\n",
    "\n",
    "# --- Implement random local search for the variable step length ---\n",
    "for i in range(0, num_steps):\n",
    "    #init the descent directions for this tep\n",
    "    dirs = []\n",
    "    dir_evals_var = []\n",
    "    #Compute P descent directions - set the radius of the circle about which we will sample directions to\n",
    "    # be equal to 1. \n",
    "    for j in range(0,P):\n",
    "        #Generate direction and append\n",
    "        dirs.append(rand_unit_vec(2))\n",
    "        \n",
    "        #Evaluate at generated dir with fixed step and append\n",
    "        dir_evals_var.append(g(wvar + dirs[j]))\n",
    "    \n",
    "    #Select the smallest descent direction for fixed\n",
    "    idx_sm_var = dir_evals_var.index(np.min(dir_evals_var))\n",
    "    #Pull that direction\n",
    "    dir_sm_var = dirs[idx_sm_var]\n",
    "    \n",
    "    #Diminishing Step Length\n",
    "    alpha = 1.0/(i+1)\n",
    "     \n",
    "    #Check if the step + the current pos minimizes the function for variable step length\n",
    "    if(g(wvar + dir_sm_var) < g(wvar)): \n",
    "        #Take descent step\n",
    "        wvar = wvar + alpha*dir_sm_var\n",
    "    \n",
    "        #Store the step and eval at that step\n",
    "        w_var_alp.append(wvar)\n",
    "        g_var_alp.append(g(wvar))\n",
    "#    #If step doesn't further minimize function, break\n",
    "#     else:\n",
    "#         break\n",
    "        \n",
    "plt.plot(list(range(0,len(g_var_alp),1)), g_var_alp, 'g')\n",
    "plt.title('Variable Step Length Cost Fucntion History Plot')\n",
    "plt.xlabel('Step')\n",
    "plt.ylabel('g(w)')\n",
    "plt.show()\n",
    "print('Number of Steps for fixed length: ',len(g_var_alp)-1)\n",
    "print('Point of Convergence:',w_var_alp[-1])\n",
    "print('Value of g() at point of convergence: ',g_var_alp[-1])\n",
    "\n",
    "\n",
    "# --- Combine Cost Function History Plots --- \n",
    "plt.plot(list(range(0,len(g_var_alp),1)), g_var_alp)\n",
    "plt.plot(list(range(0,len(g_const_alp),1)), g_const_alp)\n",
    "plt.xlabel('Step')\n",
    "plt.ylabel('g(w)')\n",
    "plt.legend(['Variable Step Length', 'Constant Step Length'])\n",
    "plt.title('Variable Step Length vs Constant Step Length Cost Fucntion History Plot')\n",
    "plt.show()\n"
   ]
  },
  {
   "cell_type": "markdown",
   "metadata": {},
   "source": [
    "### Problem 2.9 Coordinate search vs. coordinate descent\n",
    "Implement the coordinate search and coordinate descent algorithms and repeat the experiment discussed in Example 0.6.\n",
    "\n",
    "#### Example 0.6:\n",
    "Compare the efficacy of coordinate search and coordinate descent on the function: \n",
    "\n",
    "$$ g(w_0,w_1) = 0.26(w_0^2+w_1^2)-0.48w_0w_1$$\n",
    "#### For this problem the following parameters are used for both algorithms:\n",
    "- $w_0 = \\begin{bmatrix} 3 \\\\ 4\\end{bmatrix}$ (as indicated in Figure 0.13)\n",
    "- Total steps = 40 (as indicated on Piazza)\n",
    "- $\\alpha = 1/k$ (diminishing step length)\n",
    "\n",
    "#### The outputs of this problem, for each function:\n",
    "- Point of convergence for both\n",
    "- Cost function history plot \n",
    "\n",
    "\n",
    "\n",
    "\n",
    "\n",
    "\n"
   ]
  },
  {
   "cell_type": "code",
   "execution_count": 131,
   "metadata": {},
   "outputs": [
    {
     "name": "stderr",
     "output_type": "stream",
     "text": [
      "/home/chris/anaconda3/lib/python3.6/site-packages/matplotlib/figure.py:2267: UserWarning: This figure includes Axes that are not compatible with tight_layout, so results might be incorrect.\n",
      "  warnings.warn(\"This figure includes Axes that are not compatible \"\n"
     ]
    },
    {
     "data": {
      "image/png": "[encoded data removed]",
      "text/plain": [
       "<Figure size 432x288 with 1 Axes>"
      ]
     },
     "metadata": {},
     "output_type": "display_data"
    },
    {
     "name": "stdout",
     "output_type": "stream",
     "text": [
      "The point of convergence for Coordinate Descent is:  [ 0.3694484  1.3694484]\n",
      "With minima value of:  0.280237620802\n"
     ]
    }
   ],
   "source": [
    "#Coordinate Descent\n",
    "\n",
    "#Initial Conditions \n",
    "W_0 = np.array([3,4])\n",
    "alpha = 0\n",
    "num_steps = 40\n",
    "\n",
    "#Number of decent directions\n",
    "N = np.size(W_0)\n",
    "\n",
    "#Define cost function: \n",
    "def g(w): \n",
    "    return 0.26*(w[0]**2 + w[1]**2) - 0.48*w[0]*w[1]\n",
    "\n",
    "#Store the weights and cost fcn histories \n",
    "desc_weight_hx = []\n",
    "desc_cost_hx = []\n",
    "\n",
    "#Store initial points and move on...\n",
    "w = W_0\n",
    "desc_weight_hx.append(w)\n",
    "desc_cost_hx.append(g(w))\n",
    "\n",
    "#This for loop is WAY better than doing from 0 to num. \n",
    "for k in range(1,num_steps+1):\n",
    "    #init descent dirs for this temp\n",
    "    dir_evals = []\n",
    "    \n",
    "    #diminishing step length \n",
    "    alpha = 1.0/k\n",
    "    \n",
    "    #Grab the coordinates\n",
    "    coords = np.random.permutation(N)\n",
    "    \n",
    "    #Test all coordinate directions\n",
    "    for i in range(N):\n",
    "        #Generate directions\n",
    "        dirs = np.zeros((N,1)).flatten()\n",
    "        dirs[coords[i]] = 1\n",
    "        \n",
    "        #Evaluate at generated dir (+/-) and append\n",
    "        dir_evals.append(g(w+dirs[i]))\n",
    "        dir_evals.append(g(w-dirs[i]))\n",
    "        \n",
    "        #Find the smallest of the evaluations \n",
    "        idx = np.argmin(dir_evals)\n",
    "        \n",
    "        #Step in the direction of the descent dir if it's truly smaller\n",
    "        if (dir_evals[idx] < desc_cost_hx[-1]):\n",
    "            #STEP!\n",
    "            w = w + ((-1)**(idx))*alpha*dirs\n",
    "                        \n",
    "    #Append the new values for later plotting\n",
    "    desc_weight_hx.append(w)\n",
    "    desc_cost_hx.append(g(w))        \n",
    "        \n",
    "#Plot the cost history stuff\n",
    "plt.plot(desc_cost_hx, 'g')\n",
    "plt.title('Cost History Plot for Coordinate Descent')\n",
    "plt.xlabel('Step')\n",
    "plt.ylabel('g(w)')\n",
    "plt.show()       \n",
    "        \n",
    "print('The point of convergence for Coordinate Descent is: ', desc_weight_hx[-1])        \n",
    "print('With minima value of: ', desc_cost_hx[-1])        \n",
    "        \n",
    "        "
   ]
  },
  {
   "cell_type": "code",
   "execution_count": 133,
   "metadata": {},
   "outputs": [
    {
     "name": "stderr",
     "output_type": "stream",
     "text": [
      "/home/chris/anaconda3/lib/python3.6/site-packages/matplotlib/figure.py:2267: UserWarning: This figure includes Axes that are not compatible with tight_layout, so results might be incorrect.\n",
      "  warnings.warn(\"This figure includes Axes that are not compatible \"\n"
     ]
    },
    {
     "data": {
      "image/png": "[encoded data removed]",
      "text/plain": [
       "<Figure size 432x288 with 1 Axes>"
      ]
     },
     "metadata": {},
     "output_type": "display_data"
    },
    {
     "name": "stdout",
     "output_type": "stream",
     "text": [
      "The point of convergence for Coordinate Search is:  [ 1.26733875  1.26718197]\n",
      "With minima value of:  0.0642379589995\n"
     ]
    }
   ],
   "source": [
    "#Coordinate Search\n",
    "#Initial Conditions \n",
    "W_0 = np.array([3,4])\n",
    "alpha = 0\n",
    "num_steps = 40\n",
    "\n",
    "#Number of decent directions\n",
    "N = np.size(W_0)\n",
    "\n",
    "#Define cost function: \n",
    "def g(w): \n",
    "    return 0.26*(w[0]**2 + w[1]**2) - 0.48*w[0]*w[1]\n",
    "\n",
    "#Store the weights and cost fcn histories \n",
    "search_weight_hx = []\n",
    "search_cost_hx = []\n",
    "\n",
    "#Store initial points and move on...\n",
    "w = W_0\n",
    "search_weight_hx.append(w)\n",
    "search_cost_hx.append(g(w))\n",
    "\n",
    "#This for loop is WAY better than doing from 0 to num. \n",
    "for k in range(1,num_steps+1):\n",
    "    #init descent dirs vec\n",
    "    dir_evals = [] \n",
    "    \n",
    "    #diminishing step length \n",
    "    alpha = 1.0/k\n",
    "    \n",
    "    #Grab the coordinates (try every direction N in + and -)\n",
    "    coords = np.concatenate((np.eye(N,N), -(np.eye(N,N))),axis = 0)\n",
    "    \n",
    "    #Calc possible points\n",
    "    w_tries = w + alpha * coords\n",
    "    \n",
    "    #Test all coordinate directions\n",
    "    dir_evals = np.array([g(w_pos) for w_pos in w_tries])\n",
    "        \n",
    "    #Find the smallest of the evaluations \n",
    "    idx = (np.argmin(dir_evals))\n",
    "\n",
    "    #Step in the direction of the descent dir if it's truly smaller\n",
    "    if (dir_evals[idx] < search_cost_hx[-1]):\n",
    "        #STEP!\n",
    "        w = w_tries[idx]\n",
    "                        \n",
    "    #Append the new values for later plotting\n",
    "    search_weight_hx.append(w)\n",
    "    search_cost_hx.append(g(w))        \n",
    "        \n",
    "#Plot the cost history stuff\n",
    "plt.plot(search_cost_hx, 'g')\n",
    "plt.title('Cost History Plot for Coordinate Search')\n",
    "plt.xlabel('Step')\n",
    "plt.ylabel('g(w)')\n",
    "plt.show()       \n",
    "        \n",
    "print('The point of convergence for Coordinate Search is: ', search_weight_hx[-1])        \n",
    "print('With minima value of: ', search_cost_hx[-1])"
   ]
  },
  {
   "cell_type": "code",
   "execution_count": 134,
   "metadata": {},
   "outputs": [
    {
     "name": "stderr",
     "output_type": "stream",
     "text": [
      "/home/chris/anaconda3/lib/python3.6/site-packages/matplotlib/figure.py:2267: UserWarning: This figure includes Axes that are not compatible with tight_layout, so results might be incorrect.\n",
      "  warnings.warn(\"This figure includes Axes that are not compatible \"\n"
     ]
    },
    {
     "data": {
      "image/png": "[encoded data removed]",
      "text/plain": [
       "<Figure size 432x288 with 1 Axes>"
      ]
     },
     "metadata": {},
     "output_type": "display_data"
    }
   ],
   "source": [
    "#Plot both histories atop of one another\n",
    "x = [range(0,len(desc_cost_hx)), range(0,len(search_cost_hx))]\n",
    "y = [desc_cost_hx,search_cost_hx]\n",
    "\n",
    "plt.figure()\n",
    "plt.plot(range(0,len(desc_cost_hx)),desc_cost_hx)\n",
    "plt.plot(range(0,len(search_cost_hx)), search_cost_hx)\n",
    "plt.legend(['Coordinate Descent', 'Coordinate Search'])\n",
    "plt.xlabel('Step')\n",
    "plt.ylabel('g(w)')\n",
    "\n",
    "plt.title('Cost History Plot comparing Coordinate Search and Coordinate Descent')\n",
    "plt.show()"
   ]
  }
 ],
 "metadata": {
  "kernelspec": {
   "display_name": "Python 3",
   "language": "python",
   "name": "python3"
  },
  "language_info": {
   "codemirror_mode": {
    "name": "ipython",
    "version": 3
   },
   "file_extension": ".py",
   "mimetype": "text/x-python",
   "name": "python",
   "nbconvert_exporter": "python",
   "pygments_lexer": "ipython3",
   "version": "3.6.5"
  }
 },
 "nbformat": 4,
 "nbformat_minor": 2
}
