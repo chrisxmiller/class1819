{
 "cells": [
  {
   "cell_type": "markdown",
   "metadata": {},
   "source": [
    "### EECS 495: Optimization Techniques for Machine Learning and Deep Learning\n",
    "Homework 1: Chapter 2 Assignments (2.3, 2.4, 2.9)\n",
    "\n",
    "Northwestern University - Fall 2018 "
   ]
  },
  {
   "cell_type": "markdown",
   "metadata": {},
   "source": [
    "Problem 2.3 - Implement random search to minimize: \n",
    "\n",
    "$$ g(w_0, w_1) = \\tanh(4w_{0}+4w_1)+\\max(0.4w_0^2,1)+1$$\n",
    "\n",
    "Using the conditions: P = 1000 directions, $\\alpha$ = 1, up to 8 steps, and initial point $w^0 = \\begin{bmatrix} 2 \\\\ 2\\end{bmatrix}$. "
   ]
  },
  {
   "cell_type": "code",
   "execution_count": 155,
   "metadata": {},
   "outputs": [
    {
     "name": "stdout",
     "output_type": "stream",
     "text": [
      "Starting Points:\n",
      "W_0: [2 2]\n",
      "g(w_0) =  3.5999999999999748\n",
      "\n",
      "Ending Points:\n",
      "W_final: [-1.56808444 -3.52533699]\n",
      "g(W_final) =  1.0\n"
     ]
    }
   ],
   "source": [
    "#Problem 2.3 - Implement random search\n",
    "import numpy as np\n",
    "import matplotlib as mpl\n",
    "\n",
    "#Lists to store past values \n",
    "weights_past = []\n",
    "evals_past = []\n",
    "\n",
    "#Variable inits\n",
    "alpha = 1\n",
    "w_0 = np.array([2,2])\n",
    "P = 1000\n",
    "num_steps = 8\n",
    "\n",
    "#Define g\n",
    "def g(w):\n",
    "    return np.tanh(4*w[0]+4*w[1])+np.max([0.4*w[0]**2,1])+1\n",
    "\n",
    "#Define a helper function for generating random unit vectors of some length\n",
    "#Credit to Stack Overflow for this function: https://stackoverflow.com/questions/6283080/random-unit-vector-in-multi-dimensional-space\n",
    "#I started programming this...but thieir top solution was so elegant... \n",
    "def rand_unit_vec(len):\n",
    "    #np.random.rand(1)[0] is centered about [0,1) shift down by 0.5 and multiply by 2 to center about [-1,1)\n",
    "    #Otherwise, you will spend hours wondering why your function only ever increases\n",
    "    vec = [(np.random.rand(1)[0]-0.5)*2 for i in range(0,len)]\n",
    "    mag = sum(x*x for x in vec)**0.5\n",
    "    return np.transpose([x/mag for x in vec])\n",
    "\n",
    "# --- Store initial values ---\n",
    "\n",
    "#init the weights\n",
    "w = w_0\n",
    "\n",
    "#Store the inital values\n",
    "weights_past.append(w)\n",
    "evals_past.append(g(w))\n",
    "\n",
    "# --- Implement random local search ---\n",
    "for i in range(0, num_steps):\n",
    "    #init the descent directions for this tep\n",
    "    dirs = []\n",
    "    dir_evals = []\n",
    "    #Compute P descent directions - set the radius of the circle about which we will sample directions to\n",
    "    # be equal to 1. \n",
    "    for j in range(0,P):\n",
    "        #Generate direction and append\n",
    "        dirs.append(rand_unit_vec(2))\n",
    "        \n",
    "        #Evaluate at generated dir and append\n",
    "        dir_evals.append(g(w+dirs[j]))\n",
    "    \n",
    "    #Select the smallest descent direction\n",
    "    idx_sm = dir_evals.index(np.min(dir_evals))\n",
    "    \n",
    "    #Pull that direction\n",
    "    dir_sm = dirs[idx_sm]\n",
    "\n",
    "    #Check if the step + the current pos minimizes the function\n",
    "    if(g(w+dir_sm) < g(w)): \n",
    "        #Take descent step\n",
    "        w = w+alpha*dir_sm\n",
    "    \n",
    "        #Store the step and eval at that step\n",
    "        weights_past.append(w)\n",
    "        evals_past.append(g(w))\n",
    "   \n",
    "print('Starting Points:') \n",
    "print('W_0:', w_0)\n",
    "print('g(w_0) = ',g(w_0))\n",
    "print()\n",
    "print('Ending Points:')\n",
    "print('W_final:', weights_past[7])\n",
    "print('g(W_final) = ',g(weights_past[7]))"
   ]
  },
  {
   "cell_type": "markdown",
   "metadata": {},
   "source": [
    "$\\textbf{Lesson Learned:}$ if $\\vec{w}$ is constantly increasing, then it's probably centered about $[0,1)$, bounding $w_1 \\times w_2$ to the $1^{st}$ quadrant in a 2D carteasian space. This will mean that $\\vec{w}$ can only increase in magnitude and you'll *never* converge. To fix this and save four hours of debugging, the random function should follow $rand \\in [-1,1)$ which is found by $2*(rand - 0.5)$."
   ]
  },
  {
   "cell_type": "code",
   "execution_count": null,
   "metadata": {},
   "outputs": [],
   "source": []
  },
  {
   "cell_type": "code",
   "execution_count": null,
   "metadata": {},
   "outputs": [],
   "source": []
  }
 ],
 "metadata": {
  "kernelspec": {
   "display_name": "Python 3",
   "language": "python",
   "name": "python3"
  },
  "language_info": {
   "codemirror_mode": {
    "name": "ipython",
    "version": 3
   },
   "file_extension": ".py",
   "mimetype": "text/x-python",
   "name": "python",
   "nbconvert_exporter": "python",
   "pygments_lexer": "ipython3",
   "version": "3.6.5"
  }
 },
 "nbformat": 4,
 "nbformat_minor": 2
}
