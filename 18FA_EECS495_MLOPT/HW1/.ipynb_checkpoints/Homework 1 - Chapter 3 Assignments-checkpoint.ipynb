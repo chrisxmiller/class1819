{
 "cells": [
  {
   "cell_type": "markdown",
   "metadata": {},
   "source": [
    "### EECS 495: Optimization Techniques for Machine Learning and Deep Learning\n",
    "Christopher Miller - cxm9046 - 3043894\n",
    "\n",
    "Homework 1: Chapter 3 Assignments (1,2,5,6,8)\n",
    "\n",
    "Northwestern University - Fall 2018 "
   ]
  },
  {
   "cell_type": "markdown",
   "metadata": {},
   "source": [
    "### Problem 3. 1 - First Order Condition Calculations\n",
    "\n",
    "Use first order condition to fina all stationary points of g, by hand. Draw a picture of g and label all the points you find and determine - by eye - whether each stationary point is a min, max, or saddle point. Some points may be at infinity. "
   ]
  },
  {
   "cell_type": "markdown",
   "metadata": {},
   "source": [
    "a) $g(\\textbf w) = \\frac 1 2 \\textbf w^T \\textbf B \\textbf w + \\textbf c^T \\textbf w $, where $\\textbf B = \\begin{bmatrix} 2 & 1 \\\\ 1 & 3\\end{bmatrix}$ and $\\textbf c = \\begin{bmatrix} 1 \\\\ 1 \\end{bmatrix}$\n",
    "\n",
    "This is a similar to the quadratic function: $g(w) = \\frac 1 2 w^2B + cw$\n",
    "\n",
    "Differentiating we get: $\\nabla g(\\textbf w) = \\textbf B \\textbf w + \\textbf c$\n",
    "\n",
    "Solving for stationary points we set $\\nabla g( \\textbf w) = 0$ which yields $\\textbf B \\textbf w = -\\textbf c$ which yields: $ \\textbf w = \\begin{bmatrix} -0.4 \\\\ -0.2 \\end{bmatrix}$, a minima. \n",
    "\n",
    "Plot below: plot generated with computer and points marked via pen and paper."
   ]
  },
  {
   "cell_type": "markdown",
   "metadata": {},
   "source": [
    "b) $g(w) = w\\log(w) + (1-w)\\log(1-w)$ where $w \\in [0,1]$\n",
    "\n",
    "$g'(w) = \\log(w) -\\log(1-w)$\n",
    "\n",
    "$0 = \\log(w) -\\log(1-w)$ \n",
    "\n",
    "$\\log(1-w) = \\log(w)$\n",
    "\n",
    "By inspection, $w = 0.5$, a minima.\n",
    "\n",
    "Plot below, again, marked. "
   ]
  },
  {
   "cell_type": "markdown",
   "metadata": {},
   "source": [
    "c) $g(w) = \\log(1+\\exp(w))$\n",
    "\n",
    "$g'(w) = \\frac {\\exp(w)} {\\exp(w)+1}$\n",
    "\n",
    "$0 = \\frac {\\exp(w)} {\\exp(w)+1}$ ; No solution exists - point at infinity \n"
   ]
  },
  {
   "cell_type": "markdown",
   "metadata": {},
   "source": [
    "d) $g(w)=w\\tanh(w)$\n",
    "\n",
    "$g'(w) = tanh(w) + wsech^2(w)$\n",
    "\n",
    "$0 = tanh(w) + wsech^2(w)$\n",
    "\n",
    "$w = 0$ which yields a minima"
   ]
  },
  {
   "cell_type": "markdown",
   "metadata": {},
   "source": [
    "### Problem 3.2 Stationary Points of a Simple, but common, quadratic function\n",
    "\n",
    "Given: $g(\\textbf w) = a + \\textbf b^T \\textbf w + \\textbf w^T \\textbf C \\textbf w$\n",
    "\n",
    "Where: $ \\textbf C = \\frac 1 \\beta \\textbf I$ and $\\beta > 0$ and $\\textbf I $ is $N X N$\n",
    "\n",
    "\n",
    "Show that a single stationary point is  - unlike a general quadratic - not the solution to a linear system but can be expressed in a closed form as shown in Example 3.4.\n",
    "\n",
    "\n",
    "Solve for $\\nabla g(\\textbf w)$\n",
    "\n",
    "$\\nabla g(\\textbf w) = \\textbf b + 2 \\textbf C \\textbf w $\n",
    "\n",
    "Solving for the stationary points: $ 0 \\textbf b + 2 \\textbf C \\textbf w $\n",
    "\n",
    "$\\textbf C \\textbf w  = - \\frac 1 2 \\textbf b$\n",
    "\n",
    "Substituting $ \\frac 1 \\beta \\textbf I$ in for $ \\textbf C$\n",
    "\n",
    "$\\frac 1 \\beta \\textbf I \\textbf w = - \\frac 1 2 \\textbf b$\n",
    "\n",
    "And simplifying yields a closed-form solution as a function of $ \\textbf w$ assuming $\\beta$ is a positive scalar\n",
    "\n",
    "$ w = - \\frac \\beta 2 \\textbf b$ ; $\\beta > 0$ and $\\beta$ is a scalar\n",
    "\n"
   ]
  },
  {
   "cell_type": "markdown",
   "metadata": {},
   "source": [
    "### Problem 3.5 Coordinate Descent in a Local Optimization Scheme\n",
    "\n",
    "Express coordinate descent as a local optimization scheme in the general form described in Section 2.5. That is, as a sequence of steps of the form $\\textbf w^k = \\textbf w^{k-1} + \\alpha \\textbf d^k$\n",
    "\n",
    "For this problem, since both the book and Piazza was vague it was assumed that the requested solution is a $\\LaTeX$ algorithm for the first order coordinate descent algorithm. "
   ]
  },
  {
   "cell_type": "markdown",
   "metadata": {},
   "source": [
    "### Coordinate descent algorithm (first-order)\n",
    "\n",
    "<hr style=\"height:1px;border:none;color:#555;background-color:#555;\">\n",
    "<p style=\"line-height: 1.7;\">\n",
    "<strong>1:</strong>&nbsp;&nbsp; <strong>input:</strong> initial point $\\mathbf{w}^0$, maximum number of steps $K$, a steplength $\\alpha$ or diminishing steplength rule\n",
    "<br>\n",
    "\n",
    "\n",
    "<strong>2:</strong>&nbsp;&nbsp; <code>for</code> $\\,\\,k = 1...K$<br>\n",
    "\n",
    "\n",
    "<strong>3:</strong>&nbsp;&nbsp;&nbsp;&nbsp;&nbsp;&nbsp;&nbsp;&nbsp;&nbsp;&nbsp; <code>for</code> $n=1,...,N$ <br>\n",
    "\n",
    "\n",
    "<strong>3:</strong>&nbsp;&nbsp;&nbsp;&nbsp;&nbsp;&nbsp;&nbsp;&nbsp;&nbsp;&nbsp;&nbsp;&nbsp;&nbsp;&nbsp;&nbsp;&nbsp;&nbsp;&nbsp; find $\\mathbf{w}^{k+n}$ by solving $\\frac{\\partial}{\\partial w_{n}}g\\left(\\mathbf{w}^{k + n-1}\\right)=0  $<br>\n",
    "\n",
    "<strong>4:</strong>&nbsp;&nbsp;&nbsp;&nbsp;&nbsp;&nbsp;&nbsp;&nbsp;&nbsp;&nbsp;&nbsp;&nbsp;&nbsp;&nbsp;&nbsp;&nbsp;&nbsp;&nbsp; set $\\mathbf{d}^{k + n} = \\mathbf{w}^{k+n} $<br>\n",
    "\n",
    "\n",
    "<strong>6:</strong>&nbsp;&nbsp;&nbsp;&nbsp;&nbsp;&nbsp;&nbsp;&nbsp;&nbsp;&nbsp;&nbsp;&nbsp;&nbsp;&nbsp;&nbsp;&nbsp;&nbsp;&nbsp; form new point $\\mathbf{w}^{k + n} = \\mathbf{w}^{k + n-1} + \\alpha\\mathbf{d}^{k + n}$ <br>\n",
    "\n",
    "\n",
    "<strong>7:</strong>&nbsp;&nbsp;&nbsp;&nbsp;&nbsp;&nbsp;&nbsp;&nbsp;&nbsp;&nbsp;&nbsp;&nbsp;&nbsp;&nbsp;&nbsp;&nbsp;&nbsp;&nbsp; <code>if</code> $g\\left(\\mathbf{w}^{k + n}\\right) < g\\left(\\mathbf{w}^{k + n-1}\\right)$  <br>\n",
    "\n",
    "<strong>8:</strong>&nbsp;&nbsp;&nbsp;&nbsp;&nbsp;&nbsp;&nbsp;&nbsp;&nbsp;&nbsp;&nbsp;&nbsp;&nbsp;&nbsp;&nbsp;&nbsp;&nbsp;&nbsp;&nbsp;&nbsp;&nbsp;&nbsp;&nbsp; $\\mathbf{w}^{k + n-1} \\longleftarrow \\mathbf{w}^{k + n}$<br>\n",
    "\n",
    "<strong>9:</strong>&nbsp;&nbsp; <strong>output:</strong> history of weights $\\left\\{\\mathbf{w}^{b}\\right\\}_{b=0}^{KN}$ and corresponding function evaluations $\\left\\{g\\left(\\mathbf{w}^{b}\\right)\\right\\}_{b=0}^{KN}$ <br/>\n",
    "\n",
    "<hr style=\"height:1px;border:none;color:#555;background-color:#555;\">\n",
    "</p>"
   ]
  },
  {
   "cell_type": "markdown",
   "metadata": {},
   "source": [
    "### Problem 3.6 Try out gradient descent\n",
    "\n",
    "Try gradient descent using $g(w) = \\frac 1 50 (w^4 + w^2 + 10w)$ and $w_0 = 2$ with 1000 iterations and trying three step length values $\\alpha = 1, \\alpha = 10^{-1}$, and $\\alpha = 10^{-2}$. Compute the derivative by hand, implement it in Python. Plot the cost history plot for each of the step length values. Which works best for this particular function and point?"
   ]
  },
  {
   "cell_type": "code",
   "execution_count": 12,
   "metadata": {},
   "outputs": [
    {
     "data": {
      "image/png": "[encoded data removed]",
      "text/plain": [
       "<Figure size 432x288 with 1 Axes>"
      ]
     },
     "metadata": {},
     "output_type": "display_data"
    }
   ],
   "source": [
    "import autograd.numpy as np\n",
    "import matplotlib.pyplot as plt\n",
    "\n",
    "#Define g\n",
    "def g(w):\n",
    "    return (1/50)*(w**4 + w**2 + 10*w)\n",
    "\n",
    "#Define g'\n",
    "def gp(w):\n",
    "    return (1/50)*(4*(w**3) + (2*w) + 10)\n",
    "\n",
    "#Define initial conditions\n",
    "w_0 = 2\n",
    "max_its = 1000\n",
    "\n",
    "#Define gradient descent function (I finally learned, this will save so much room!)\n",
    "def gradient_descent1D(alpha, max_its, w):\n",
    "    weight_hx = [w]\n",
    "    cost_hx = [g(w)]\n",
    "    \n",
    "    #loop-de-loop\n",
    "    for k in range(max_its):\n",
    "        #Evaluate the gradient of the function (computed above)\n",
    "        grad_eval = gp(w)\n",
    "        \n",
    "        #Take the step\n",
    "        w = w - alpha * grad_eval\n",
    "        \n",
    "        #Record weight and cost\n",
    "        weight_hx.append(w)\n",
    "        cost_hx.append(g(w))\n",
    "        \n",
    "    return weight_hx, cost_hx \n",
    "\n",
    "#Compute for each alpha value\n",
    "\n",
    "#alpha = 1.0\n",
    "w_hx,cost_hx_1 = gradient_descent1D(1.0,max_its,w_0)\n",
    "\n",
    "#alpha = 0.1\n",
    "w_hx,cost_hx_2 = gradient_descent1D(0.1,max_its,w_0)\n",
    "\n",
    "#alpha = 0.01\n",
    "w_hx,cost_hx_3 = gradient_descent1D(0.01,max_its,w_0)\n",
    "\n",
    "\n",
    "#Plot everything\n",
    "\n",
    "plt.plot(list(range(0,len(cost_hx_1),1)), cost_hx_1)\n",
    "plt.plot(list(range(0,len(cost_hx_2),1)), cost_hx_2)\n",
    "plt.plot(list(range(0,len(cost_hx_3),1)), cost_hx_3)\n",
    "plt.xlabel('Step')\n",
    "plt.ylabel('g(w)')\n",
    "plt.legend(['alpha = 1.0', 'alpha = 0.1', 'alpha = 0.01'])\n",
    "plt.title('Cost Function History Plot of varying Alpha Values ')\n",
    "plt.show()\n"
   ]
  },
  {
   "cell_type": "markdown",
   "metadata": {},
   "source": [
    "The best $\\alpha$ value for this problem is: $\\alpha = 1.0$"
   ]
  },
  {
   "cell_type": "markdown",
   "metadata": {},
   "source": [
    "### Problem 3.8 Oscillation in the cost function history plot\n",
    "\n",
    "Repeat the experiment in example 3.15 and produce a cost function history plot. You may use autograd for this problem. \n",
    "\n",
    "Given: \n",
    "$g(w) = w^2_0+w^2_1 + 2 \\sin(1.5(w_0+w_1)) +2$ \n",
    "\n",
    "According to Piazza, this is the function we're supposed to use. This *is* in direct conflict with the textbook. \n",
    "\n",
    "$\\mathbf{w}^0 = $\n",
    "\n",
    "Steps = 10\n",
    "\n",
    "$\\alpha = 10^{-2}, 10^{-1}, 10^0$"
   ]
  },
  {
   "cell_type": "code",
   "execution_count": null,
   "metadata": {},
   "outputs": [],
   "source": [
    "#Define new initial conditions\n",
    "\n",
    "\n",
    "#Define the new function, g\n",
    "\n",
    "#Define the new gradient descent algorithm\n",
    "\n",
    "\n",
    "#Try it for various step lengths \n"
   ]
  },
  {
   "cell_type": "code",
   "execution_count": null,
   "metadata": {},
   "outputs": [],
   "source": []
  },
  {
   "cell_type": "code",
   "execution_count": null,
   "metadata": {},
   "outputs": [],
   "source": []
  },
  {
   "cell_type": "code",
   "execution_count": null,
   "metadata": {},
   "outputs": [],
   "source": []
  },
  {
   "cell_type": "code",
   "execution_count": null,
   "metadata": {},
   "outputs": [],
   "source": []
  },
  {
   "cell_type": "code",
   "execution_count": null,
   "metadata": {},
   "outputs": [],
   "source": []
  },
  {
   "cell_type": "code",
   "execution_count": null,
   "metadata": {},
   "outputs": [],
   "source": []
  },
  {
   "cell_type": "code",
   "execution_count": null,
   "metadata": {},
   "outputs": [],
   "source": []
  },
  {
   "cell_type": "code",
   "execution_count": null,
   "metadata": {},
   "outputs": [],
   "source": []
  }
 ],
 "metadata": {
  "kernelspec": {
   "display_name": "Python 3",
   "language": "python",
   "name": "python3"
  },
  "language_info": {
   "codemirror_mode": {
    "name": "ipython",
    "version": 3
   },
   "file_extension": ".py",
   "mimetype": "text/x-python",
   "name": "python",
   "nbconvert_exporter": "python",
   "pygments_lexer": "ipython3",
   "version": "3.6.5"
  }
 },
 "nbformat": 4,
 "nbformat_minor": 2
}
