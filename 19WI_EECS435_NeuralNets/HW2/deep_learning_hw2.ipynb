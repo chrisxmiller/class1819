{
 "cells": [
  {
   "cell_type": "markdown",
   "metadata": {},
   "source": [
    "# Deep learning from scratch: homework 2"
   ]
  },
  {
   "cell_type": "markdown",
   "metadata": {},
   "source": [
    "### General instructions"
   ]
  },
  {
   "cell_type": "markdown",
   "metadata": {},
   "source": [
    "Complete the exercises listed below in this Jupyter notebook - leaving all of your code in Python cells in the notebook itself.  Feel free to add any necessary cells."
   ]
  },
  {
   "cell_type": "markdown",
   "metadata": {},
   "source": [
    "#### <span style=\"color:#a50e3e;\">Exercise 1. </span>   Perform two-class classification on a toy dataset"
   ]
  },
  {
   "cell_type": "markdown",
   "metadata": {},
   "source": [
    "Code up the two-class logistic regression / softmax cost function, using gradient descent to minimize.  You should use the two class toy dataset in the file called *3d_classification_data_v2.csv*.\n",
    "\n",
    "Create a plot with two panels that shows the number of misclassifications at each gradient descent step (in the left panel), and one that compares the cost function at each gradient descent step (in the right panel).  You won't get perfect separation - but you should be able to separate most of the points."
   ]
  },
  {
   "cell_type": "code",
   "execution_count": 202,
   "metadata": {},
   "outputs": [],
   "source": [
    "#Imports and Other Things\n",
    "import autograd.numpy as np   \n",
    "import matplotlib.pyplot as plt\n",
    "from autograd import grad    "
   ]
  },
  {
   "cell_type": "code",
   "execution_count": 203,
   "metadata": {},
   "outputs": [],
   "source": [
    "#Gradient Descent from HW 1\n",
    "# gradient descent function - inputs: g (input function), alpha (steplength parameter), max_its (maximum number of iterations), w (initialization)\n",
    "def gradient_descent(g,alpha,max_its,w):\n",
    "    # compute the gradient of our input function - note this is a function too!\n",
    "    gradient = grad(g)\n",
    "    #array for the weight history\n",
    "    weight_history = []\n",
    "    #Append the initial weight\n",
    "    weight_history.append(w)\n",
    "\n",
    "    # run the gradient descent loop\n",
    "    best_w = w        # weight we return, should be the one providing lowest evaluation\n",
    "    best_eval = g(w)       # lowest evaluation yet\n",
    "    for k in range(max_its):\n",
    "        # evaluate the gradient\n",
    "        grad_eval = gradient(w)\n",
    "\n",
    "        # take gradient descent step\n",
    "        w = w - alpha*grad_eval\n",
    "        \n",
    "        #Append at each step of gradient descent \n",
    "        weight_history.append(w)\n",
    "        \n",
    "        # return only the weight providing the lowest evaluation\n",
    "        test_eval = g(w)\n",
    "        if test_eval < best_eval:\n",
    "            best_eval = test_eval\n",
    "                     \n",
    "    #return the weight history        \n",
    "    return weight_history\n",
    "\n",
    "#Cost Function History output modified from  from HW1\n",
    "def cost_history(weight_history,g):\n",
    "    out = []\n",
    "    # loop over weight history and compute associated cost function history at each step\n",
    "    for w in weight_history:\n",
    "        out.append(g(w))\n",
    "    return out\n"
   ]
  },
  {
   "cell_type": "code",
   "execution_count": 204,
   "metadata": {},
   "outputs": [],
   "source": [
    "#Import the data\n",
    "csvname = '3d_classification_data_v2.csv'\n",
    "data = np.loadtxt(csvname,delimiter = ',')\n",
    "\n",
    "#Seperate it into vectors \n",
    "x = data[:,:-1]\n",
    "y = data[:,-1]\n",
    "\n",
    "#Define the model\n",
    "\n",
    "def model(x,w):\n",
    "    a = w[0]+ np.dot(x,w[1:])\n",
    "    return a.T"
   ]
  },
  {
   "cell_type": "code",
   "execution_count": 205,
   "metadata": {},
   "outputs": [],
   "source": [
    "#Softmax function (it's convex!) Realization\n",
    "def softmax(w):\n",
    "    g = np.sum(np.log(1+np.exp(-1.0*y*model(x,w))))\n",
    "    return g/float(np.size(y))"
   ]
  },
  {
   "cell_type": "code",
   "execution_count": 206,
   "metadata": {},
   "outputs": [],
   "source": [
    "#Init the weights\n",
    "w = np.random.randn(1,np.shape(x)[1]+1)[0]\n",
    "\n",
    "#Minimization\n",
    "#Alpha = 1\n",
    "#1000 Iterations \n",
    "w_hx = gradient_descent(softmax, 1.0, 1000, w)"
   ]
  },
  {
   "cell_type": "code",
   "execution_count": 207,
   "metadata": {},
   "outputs": [],
   "source": [
    "#Misclassification function \n",
    "def missclass(model, w_hx, x, y):\n",
    "    #History var\n",
    "    missclass_hx = []\n",
    "    sgns = []\n",
    "    \n",
    "    #Test the fit with x and the model fit and the model\n",
    "    for w in w_hx:\n",
    "        #Get the signs of the variables (we only care about those here)\n",
    "        sgns = np.sign(model(x,w))\n",
    "        #Count the number of missclassified variables\n",
    "        mcs = np.sum(1.0 - np.equal(sgns, y))\n",
    "        #Append misclassifications\n",
    "        missclass_hx.append(mcs)\n",
    "        \n",
    "    return missclass_hx"
   ]
  },
  {
   "cell_type": "code",
   "execution_count": 208,
   "metadata": {},
   "outputs": [
    {
     "data": {
      "image/png": "[encoded data removed]",
      "text/plain": [
       "<Figure size 1296x648 with 2 Axes>"
      ]
     },
     "metadata": {},
     "output_type": "display_data"
    }
   ],
   "source": [
    "#Plots (One Plot for each misclassification and cost function history)\n",
    "#Get the data for both\n",
    "mc = missclass(model, w_hx, x,y)\n",
    "cfxhx = cost_history(w_hx, softmax)\n",
    "\n",
    "#Number of iterations\n",
    "its = np.arange(0,len(w_hx))\n",
    "\n",
    "# plot cost function history\n",
    "fig, ax = plt.subplots(1, 2, figsize=(18,9))\n",
    "\n",
    "# plot function and gradient values\n",
    "ax[0].plot(its,mc)\n",
    "ax[0].set_title(\"Number of Missclassifications\")\n",
    "ax[1].plot(its,cfxhx)\n",
    "ax[1].set_title(\"Cost Function History\")\n",
    "\n",
    "plt.show()\n"
   ]
  },
  {
   "cell_type": "markdown",
   "metadata": {},
   "source": [
    "#### <span style=\"color:#a50e3e;\">Exercise 2. </span>   Perform two-class classification on a breast cancer dataset"
   ]
  },
  {
   "cell_type": "markdown",
   "metadata": {},
   "source": [
    "Use the softmax cost function to classify healthy from cancerous tissue using the dataset located in breast_cancer_dataset.csv (included in this homework folder).  You can examine the description of this dataset [here](https://archive.ics.uci.edu/ml/datasets/Breast+Cancer+Wisconsin+(Diagnostic)). \n",
    "\n",
    "There are $N = 8$ input dimensions to the input of this dataset (these are the first $N = 8$ columns of the breast_cancer_dataset.csv, the last column are the associated labels).  Fit using gradient descent using a maximum of 5,000 iterations.  You should be able to reach a point on the surface where you misclassify less than 30 examples."
   ]
  },
  {
   "cell_type": "markdown",
   "metadata": {},
   "source": [
    "**Note:** Python is a great prototyping language but [it is slow](http://jakevdp.github.io/blog/2014/05/09/why-python-is-slow/), particular when evaluating explicit for loops.  If you are having speed issues try re-writing the softmax cost function using as few explicit for-loops as possible (you can indeed write the entire summation in a single line of Python code, for-loop free)."
   ]
  },
  {
   "cell_type": "code",
   "execution_count": 219,
   "metadata": {},
   "outputs": [],
   "source": [
    "# we reuse the imports, we have the functions for:\n",
    "# -- Softmax\n",
    "# -- Gradient Descent\n",
    "# -- Number of Misclassifications\n",
    "# -- Cost Function History\n",
    "# -- The Model \n",
    "\n",
    "#Here, we import the new data. \n",
    "csvname = 'breast_cancer_data.csv'\n",
    "data = np.loadtxt(csvname,delimiter = ',')\n",
    "\n",
    "#Seperate it into vectors \n",
    "x = data[:,:-1]\n",
    "y = data[:,-1]\n",
    "\n",
    "#Init the weights\n",
    "w = np.random.randn(1,np.shape(x)[1]+1)[0]"
   ]
  },
  {
   "cell_type": "code",
   "execution_count": 220,
   "metadata": {},
   "outputs": [],
   "source": [
    "#Now, we run gradient descent again using 5000 its as states above\n",
    "w_hx = gradient_descent(softmax, 0.10, 5000, w)"
   ]
  },
  {
   "cell_type": "code",
   "execution_count": 221,
   "metadata": {},
   "outputs": [
    {
     "data": {
      "image/png": "[encoded data removed]",
      "text/plain": [
       "<Figure size 648x648 with 1 Axes>"
      ]
     },
     "metadata": {},
     "output_type": "display_data"
    },
    {
     "name": "stdout",
     "output_type": "stream",
     "text": [
      "Number of misclassifications at conclusion of gradient descent is:  27.0\n"
     ]
    }
   ],
   "source": [
    "#Aaaand we plot the number of misclassifications\n",
    "mc = missclass(model, w_hx, x,y)\n",
    "its = np.arange(0,len(w_hx))\n",
    "\n",
    "# plot cost function history\n",
    "fig, ax = plt.subplots(1, 1, figsize=(9,9))\n",
    "\n",
    "# plot function and gradient values\n",
    "ax.plot(its,mc)\n",
    "ax.set_title(\"Number of Missclassifications\")\n",
    "plt.show()\n",
    "\n",
    "#Finally, print the number \n",
    "print(\"Number of misclassifications at conclusion of gradient descent is: \", mc[-1])"
   ]
  },
  {
   "cell_type": "markdown",
   "metadata": {
    "collapsed": true
   },
   "source": [
    "#### <span style=\"color:#a50e3e;\">Exercise 3. </span>   Code up One-versus-All multiclass classification"
   ]
  },
  {
   "cell_type": "markdown",
   "metadata": {},
   "source": [
    "Using the toy $C = 3$ class dataset located in *3class_data.csv* - code up One-Versus-All classification, using this toy dataset to test out your code.  You should be able to learn a model that perfectly separates this data - as shown in class.  You may use your softmax cost / gradient descent code here for each of the two-class subproblems! "
   ]
  },
  {
   "cell_type": "code",
   "execution_count": 222,
   "metadata": {},
   "outputs": [],
   "source": [
    "# we reuse the imports, we have the functions for:\n",
    "# -- Softmax\n",
    "# -- Gradient Descent\n",
    "# -- Cost Function History\n",
    "# -- The Model \n",
    "\n",
    "#We need to make a new function for misclassifications for this and the next problem\n",
    "\n",
    "#Here, we import the new data. \n",
    "csvname = '3class_data.csv'\n",
    "data = np.loadtxt(csvname,delimiter = ',')\n",
    "\n",
    "#Seperate it into vectors \n",
    "x = data[:,:-1]\n",
    "y = data[:,-1]\n",
    "\n",
    "#Init the weights\n",
    "w = np.random.randn(1,np.shape(x)[1]+1)[0]"
   ]
  },
  {
   "cell_type": "code",
   "execution_count": null,
   "metadata": {},
   "outputs": [],
   "source": [
    "#For 0 throgugh the dataset number of classes (C-1)... (j)\n",
    "\n",
    "#Seperate the jth term to +1. otherwise -1 and setup temp vectors\n",
    "\n",
    "#Solve two-step problem (essentially, run gradient descent using the methods in p1 and p2)\n",
    "\n",
    "#Store best weight\n",
    "\n",
    "#Store weight history for each iteration (for cost function history review)\n",
    "\n",
    "#Normalize\n",
    "\n",
    "#Fusion Rule Application \n",
    "\n",
    "#Plots "
   ]
  },
  {
   "cell_type": "code",
   "execution_count": null,
   "metadata": {},
   "outputs": [],
   "source": []
  },
  {
   "cell_type": "code",
   "execution_count": null,
   "metadata": {},
   "outputs": [],
   "source": []
  },
  {
   "cell_type": "markdown",
   "metadata": {},
   "source": [
    "#### <span style=\"color:#a50e3e;\">Exercise 4. </span>   A nonlinear two-class dataset"
   ]
  },
  {
   "cell_type": "markdown",
   "metadata": {},
   "source": [
    "Propose a nonlinear feature transformation and integrate it into your two-class classification scheme in order to adequately classify the dataset shown below - located in the file *bricks.csv'.  With the right transformation you should be able to classify this quite well."
   ]
  },
  {
   "cell_type": "markdown",
   "metadata": {},
   "source": [
    "<p>\n",
    "  <img src= 'brick_pick.png' width=\"40%\" height=\"40%\" alt=\"\"/>\n",
    "</p>"
   ]
  },
  {
   "cell_type": "code",
   "execution_count": null,
   "metadata": {},
   "outputs": [],
   "source": [
    "#read in the data\n",
    "\n",
    "#Redefine old two-class functions\n",
    "\n"
   ]
  }
 ],
 "metadata": {
  "anaconda-cloud": {},
  "kernelspec": {
   "display_name": "Python 3",
   "language": "python",
   "name": "python3"
  },
  "language_info": {
   "codemirror_mode": {
    "name": "ipython",
    "version": 3
   },
   "file_extension": ".py",
   "mimetype": "text/x-python",
   "name": "python",
   "nbconvert_exporter": "python",
   "pygments_lexer": "ipython3",
   "version": "3.6.5"
  },
  "toc": {
   "colors": {
    "hover_highlight": "#DAA520",
    "navigate_num": "#000000",
    "navigate_text": "#333333",
    "running_highlight": "#FF0000",
    "selected_highlight": "#FFD700",
    "sidebar_border": "#EEEEEE",
    "wrapper_background": "#FFFFFF"
   },
   "moveMenuLeft": true,
   "nav_menu": {
    "height": "30px",
    "width": "252px"
   },
   "navigate_menu": true,
   "number_sections": false,
   "sideBar": true,
   "threshold": 4,
   "toc_cell": false,
   "toc_section_display": "block",
   "toc_window_display": false,
   "widenNotebook": false
  }
 },
 "nbformat": 4,
 "nbformat_minor": 1
}
